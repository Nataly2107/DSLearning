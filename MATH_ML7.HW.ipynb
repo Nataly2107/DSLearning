{
 "cells": [
  {
   "cell_type": "markdown",
   "id": "00009cca",
   "metadata": {
    "id": "00009cca"
   },
   "source": [
    "# Классификация текстов с использованием Наивного Байесовского Классификатора"
   ]
  },
  {
   "cell_type": "markdown",
   "id": "a52414b8",
   "metadata": {
    "id": "a52414b8"
   },
   "source": [
    "## Задание 1 (1 балл)"
   ]
  },
  {
   "cell_type": "markdown",
   "id": "f5f27b43",
   "metadata": {
    "id": "f5f27b43"
   },
   "source": [
    "Откройте данные. Узнайте, сколько в них спам- и не спам-писем. Визуализируйте полученные соотношение подходящим образом."
   ]
  },
  {
   "cell_type": "code",
   "execution_count": 1,
   "id": "ac369274",
   "metadata": {
    "id": "ac369274"
   },
   "outputs": [],
   "source": [
    "import numpy as np\n",
    "import pandas as pd\n",
    "import matplotlib.pyplot as plt\n",
    "import seaborn as sns\n",
    "from sklearn.model_selection import train_test_split, cross_val_score\n",
    "from sklearn.naive_bayes import ComplementNB\n",
    "from sklearn.naive_bayes import MultinomialNB\n",
    "from sklearn.metrics import classification_report, roc_auc_score, roc_curve, auc\n",
    "\n"
   ]
  },
  {
   "cell_type": "code",
   "execution_count": 2,
   "id": "83c046cf",
   "metadata": {},
   "outputs": [
    {
     "data": {
      "text/html": [
       "<div>\n",
       "<style scoped>\n",
       "    .dataframe tbody tr th:only-of-type {\n",
       "        vertical-align: middle;\n",
       "    }\n",
       "\n",
       "    .dataframe tbody tr th {\n",
       "        vertical-align: top;\n",
       "    }\n",
       "\n",
       "    .dataframe thead th {\n",
       "        text-align: right;\n",
       "    }\n",
       "</style>\n",
       "<table border=\"1\" class=\"dataframe\">\n",
       "  <thead>\n",
       "    <tr style=\"text-align: right;\">\n",
       "      <th></th>\n",
       "      <th>email</th>\n",
       "      <th>label</th>\n",
       "    </tr>\n",
       "  </thead>\n",
       "  <tbody>\n",
       "    <tr>\n",
       "      <th>0</th>\n",
       "      <td>date wed NUMBER aug NUMBER NUMBER NUMBER NUMB...</td>\n",
       "      <td>0</td>\n",
       "    </tr>\n",
       "    <tr>\n",
       "      <th>1</th>\n",
       "      <td>martin a posted tassos papadopoulos the greek ...</td>\n",
       "      <td>0</td>\n",
       "    </tr>\n",
       "  </tbody>\n",
       "</table>\n",
       "</div>"
      ],
      "text/plain": [
       "                                               email  label\n",
       "0   date wed NUMBER aug NUMBER NUMBER NUMBER NUMB...      0\n",
       "1  martin a posted tassos papadopoulos the greek ...      0"
      ]
     },
     "execution_count": 2,
     "metadata": {},
     "output_type": "execute_result"
    }
   ],
   "source": [
    "data = pd.read_csv('data/spam_or_not_spam.csv')\n",
    "data.head(2)"
   ]
  },
  {
   "cell_type": "code",
   "execution_count": 3,
   "id": "f4231781",
   "metadata": {
    "id": "f4231781"
   },
   "outputs": [
    {
     "data": {
      "text/plain": [
       "0    2500\n",
       "1     500\n",
       "Name: label, dtype: int64"
      ]
     },
     "execution_count": 3,
     "metadata": {},
     "output_type": "execute_result"
    }
   ],
   "source": [
    "# рассчитайте частоты для классов \n",
    "data['label'].value_counts()"
   ]
  },
  {
   "cell_type": "code",
   "execution_count": 4,
   "id": "9b871636",
   "metadata": {
    "id": "9b871636"
   },
   "outputs": [
    {
     "data": {
      "image/png": "[encoded data removed]",
      "text/plain": [
       "<Figure size 720x360 with 1 Axes>"
      ]
     },
     "metadata": {
      "needs_background": "light"
     },
     "output_type": "display_data"
    }
   ],
   "source": [
    "# визуализируйте результат\n",
    "fig, ax = plt.subplots(figsize=(10, 5))\n",
    "sns.countplot(data=data, x='label')\n",
    "ax.set_title('Сообщения', fontsize = 18)\n",
    "ax.set_ylabel('Количество сообщений', fontsize = 18)\n",
    "ax.set_xlabel(' ')\n",
    "ax.set_xticks(ticks=[0,1], labels=['ham', 'spam'], fontsize = 18)\n",
    "plt.show()"
   ]
  },
  {
   "cell_type": "markdown",
   "id": "b161614b",
   "metadata": {
    "id": "b161614b"
   },
   "source": [
    "## Задание 2 (2 балла)"
   ]
  },
  {
   "cell_type": "markdown",
   "id": "dd29763b",
   "metadata": {
    "id": "dd29763b"
   },
   "source": [
    "Вам необходимо предобработать ваши данные и перевести их в векторный вид. Подгрузим необходимый модуль:"
   ]
  },
  {
   "cell_type": "code",
   "execution_count": 5,
   "id": "382eac9c",
   "metadata": {
    "id": "382eac9c"
   },
   "outputs": [
    {
     "data": {
      "text/html": [
       "<div>\n",
       "<style scoped>\n",
       "    .dataframe tbody tr th:only-of-type {\n",
       "        vertical-align: middle;\n",
       "    }\n",
       "\n",
       "    .dataframe tbody tr th {\n",
       "        vertical-align: top;\n",
       "    }\n",
       "\n",
       "    .dataframe thead th {\n",
       "        text-align: right;\n",
       "    }\n",
       "</style>\n",
       "<table border=\"1\" class=\"dataframe\">\n",
       "  <thead>\n",
       "    <tr style=\"text-align: right;\">\n",
       "      <th></th>\n",
       "      <th>email</th>\n",
       "      <th>label</th>\n",
       "    </tr>\n",
       "  </thead>\n",
       "  <tbody>\n",
       "    <tr>\n",
       "      <th>0</th>\n",
       "      <td>date wed NUMBER aug NUMBER NUMBER NUMBER NUMB...</td>\n",
       "      <td>0</td>\n",
       "    </tr>\n",
       "    <tr>\n",
       "      <th>1</th>\n",
       "      <td>martin a posted tassos papadopoulos the greek ...</td>\n",
       "      <td>0</td>\n",
       "    </tr>\n",
       "    <tr>\n",
       "      <th>2</th>\n",
       "      <td>man threatens explosion in moscow thursday aug...</td>\n",
       "      <td>0</td>\n",
       "    </tr>\n",
       "    <tr>\n",
       "      <th>3</th>\n",
       "      <td>klez the virus that won t die already the most...</td>\n",
       "      <td>0</td>\n",
       "    </tr>\n",
       "    <tr>\n",
       "      <th>4</th>\n",
       "      <td>in adding cream to spaghetti carbonara which ...</td>\n",
       "      <td>0</td>\n",
       "    </tr>\n",
       "    <tr>\n",
       "      <th>...</th>\n",
       "      <td>...</td>\n",
       "      <td>...</td>\n",
       "    </tr>\n",
       "    <tr>\n",
       "      <th>2995</th>\n",
       "      <td>abc s good morning america ranks it the NUMBE...</td>\n",
       "      <td>1</td>\n",
       "    </tr>\n",
       "    <tr>\n",
       "      <th>2996</th>\n",
       "      <td>hyperlink hyperlink hyperlink let mortgage le...</td>\n",
       "      <td>1</td>\n",
       "    </tr>\n",
       "    <tr>\n",
       "      <th>2997</th>\n",
       "      <td>thank you for shopping with us gifts for all ...</td>\n",
       "      <td>1</td>\n",
       "    </tr>\n",
       "    <tr>\n",
       "      <th>2998</th>\n",
       "      <td>the famous ebay marketing e course learn to s...</td>\n",
       "      <td>1</td>\n",
       "    </tr>\n",
       "    <tr>\n",
       "      <th>2999</th>\n",
       "      <td>hello this is chinese traditional 子 件 NUMBER世...</td>\n",
       "      <td>1</td>\n",
       "    </tr>\n",
       "  </tbody>\n",
       "</table>\n",
       "<p>3000 rows × 2 columns</p>\n",
       "</div>"
      ],
      "text/plain": [
       "                                                  email  label\n",
       "0      date wed NUMBER aug NUMBER NUMBER NUMBER NUMB...      0\n",
       "1     martin a posted tassos papadopoulos the greek ...      0\n",
       "2     man threatens explosion in moscow thursday aug...      0\n",
       "3     klez the virus that won t die already the most...      0\n",
       "4      in adding cream to spaghetti carbonara which ...      0\n",
       "...                                                 ...    ...\n",
       "2995   abc s good morning america ranks it the NUMBE...      1\n",
       "2996   hyperlink hyperlink hyperlink let mortgage le...      1\n",
       "2997   thank you for shopping with us gifts for all ...      1\n",
       "2998   the famous ebay marketing e course learn to s...      1\n",
       "2999   hello this is chinese traditional 子 件 NUMBER世...      1\n",
       "\n",
       "[3000 rows x 2 columns]"
      ]
     },
     "execution_count": 5,
     "metadata": {},
     "output_type": "execute_result"
    }
   ],
   "source": [
    "from sklearn.feature_extraction.text import CountVectorizer\n",
    "data"
   ]
  },
  {
   "cell_type": "markdown",
   "id": "89546b95",
   "metadata": {
    "id": "89546b95"
   },
   "source": [
    "Замените в данных все пустые строки и строки, состоящие из пробелов, на пропуски (NaN). После этого удалите из данных все строки, в которых наблюдаются пропущенные значения."
   ]
  },
  {
   "cell_type": "code",
   "execution_count": 6,
   "id": "45180f82",
   "metadata": {
    "id": "45180f82"
   },
   "outputs": [],
   "source": [
    "data = data.replace ( r'^\\s\\*$' , np.nan , regex= True )\n",
    "data.dropna(inplace=True)"
   ]
  },
  {
   "cell_type": "markdown",
   "id": "2ca2fe88",
   "metadata": {
    "id": "2ca2fe88"
   },
   "source": [
    "Переводим данные в векторный вид:"
   ]
  },
  {
   "cell_type": "code",
   "execution_count": 7,
   "id": "29e9a37b",
   "metadata": {
    "id": "29e9a37b"
   },
   "outputs": [],
   "source": [
    "vectorizer = CountVectorizer()\n",
    "X = vectorizer.fit_transform(data[\"email\"])"
   ]
  },
  {
   "cell_type": "markdown",
   "id": "88c8b726",
   "metadata": {
    "id": "88c8b726"
   },
   "source": [
    "Определите, сколько теперь признаков в нашем наборе данных:"
   ]
  },
  {
   "cell_type": "code",
   "execution_count": 8,
   "id": "f19c2a02",
   "metadata": {
    "id": "f19c2a02"
   },
   "outputs": [
    {
     "data": {
      "text/plain": [
       "34116"
      ]
     },
     "execution_count": 8,
     "metadata": {},
     "output_type": "execute_result"
    }
   ],
   "source": [
    "X.shape[1]"
   ]
  },
  {
   "cell_type": "markdown",
   "id": "1803f282",
   "metadata": {
    "id": "1803f282"
   },
   "source": [
    "## Задание 3 (2 балла)"
   ]
  },
  {
   "cell_type": "markdown",
   "id": "39f400b7",
   "metadata": {
    "id": "39f400b7"
   },
   "source": [
    "Определите целевую переменную и признаки:"
   ]
  },
  {
   "cell_type": "code",
   "execution_count": 9,
   "id": "31f1acb6",
   "metadata": {
    "id": "31f1acb6"
   },
   "outputs": [],
   "source": [
    "X = X.toarray()\n",
    "y = data['label']"
   ]
  },
  {
   "cell_type": "markdown",
   "id": "b20f273e",
   "metadata": {
    "id": "b20f273e"
   },
   "source": [
    "Разделите выборку на обучающую и тестовую, используя стратифицированное разбиение (параметр `stratify` установите в значение вектора ответов y) размер тестовой выборки (`test_size`) возьмите как 0.25, параметр `random_state` определите со значением 42:"
   ]
  },
  {
   "cell_type": "code",
   "execution_count": 10,
   "id": "96538fb6",
   "metadata": {
    "id": "96538fb6"
   },
   "outputs": [],
   "source": [
    "X_train, X_test, y_train, y_test = train_test_split(X, y,stratify=y, test_size=0.25, random_state=42)"
   ]
  },
  {
   "cell_type": "markdown",
   "id": "139dac3d",
   "metadata": {
    "id": "139dac3d"
   },
   "source": [
    "Рассчитайте среднее значение целевой переменной по тестовой выборке:"
   ]
  },
  {
   "cell_type": "code",
   "execution_count": 11,
   "id": "e9baf72d",
   "metadata": {
    "id": "e9baf72d"
   },
   "outputs": [
    {
     "data": {
      "text/plain": [
       "0.16666666666666666"
      ]
     },
     "execution_count": 11,
     "metadata": {},
     "output_type": "execute_result"
    }
   ],
   "source": [
    "y_test.mean()"
   ]
  },
  {
   "cell_type": "markdown",
   "id": "710e0e94",
   "metadata": {
    "id": "710e0e94"
   },
   "source": [
    "## Задание 4 (3 балла)"
   ]
  },
  {
   "cell_type": "markdown",
   "id": "26cf6885",
   "metadata": {
    "id": "26cf6885"
   },
   "source": [
    "Определите и обучите подходящий алгоритм с параметром alpha = 0.01"
   ]
  },
  {
   "cell_type": "code",
   "execution_count": 12,
   "id": "4865dd78",
   "metadata": {
    "id": "4865dd78"
   },
   "outputs": [
    {
     "data": {
      "text/html": [
       "<style>#sk-container-id-1 {color: black;background-color: white;}#sk-container-id-1 pre{padding: 0;}#sk-container-id-1 div.sk-toggleable {background-color: white;}#sk-container-id-1 label.sk-toggleable__label {cursor: pointer;display: block;width: 100%;margin-bottom: 0;padding: 0.3em;box-sizing: border-box;text-align: center;}#sk-container-id-1 label.sk-toggleable__label-arrow:before {content: \"▸\";float: left;margin-right: 0.25em;color: #696969;}#sk-container-id-1 label.sk-toggleable__label-arrow:hover:before {color: black;}#sk-container-id-1 div.sk-estimator:hover label.sk-toggleable__label-arrow:before {color: black;}#sk-container-id-1 div.sk-toggleable__content {max-height: 0;max-width: 0;overflow: hidden;text-align: left;background-color: #f0f8ff;}#sk-container-id-1 div.sk-toggleable__content pre {margin: 0.2em;color: black;border-radius: 0.25em;background-color: #f0f8ff;}#sk-container-id-1 input.sk-toggleable__control:checked~div.sk-toggleable__content {max-height: 200px;max-width: 100%;overflow: auto;}#sk-container-id-1 input.sk-toggleable__control:checked~label.sk-toggleable__label-arrow:before {content: \"▾\";}#sk-container-id-1 div.sk-estimator input.sk-toggleable__control:checked~label.sk-toggleable__label {background-color: #d4ebff;}#sk-container-id-1 div.sk-label input.sk-toggleable__control:checked~label.sk-toggleable__label {background-color: #d4ebff;}#sk-container-id-1 input.sk-hidden--visually {border: 0;clip: rect(1px 1px 1px 1px);clip: rect(1px, 1px, 1px, 1px);height: 1px;margin: -1px;overflow: hidden;padding: 0;position: absolute;width: 1px;}#sk-container-id-1 div.sk-estimator {font-family: monospace;background-color: #f0f8ff;border: 1px dotted black;border-radius: 0.25em;box-sizing: border-box;margin-bottom: 0.5em;}#sk-container-id-1 div.sk-estimator:hover {background-color: #d4ebff;}#sk-container-id-1 div.sk-parallel-item::after {content: \"\";width: 100%;border-bottom: 1px solid gray;flex-grow: 1;}#sk-container-id-1 div.sk-label:hover label.sk-toggleable__label {background-color: #d4ebff;}#sk-container-id-1 div.sk-serial::before {content: \"\";position: absolute;border-left: 1px solid gray;box-sizing: border-box;top: 0;bottom: 0;left: 50%;z-index: 0;}#sk-container-id-1 div.sk-serial {display: flex;flex-direction: column;align-items: center;background-color: white;padding-right: 0.2em;padding-left: 0.2em;position: relative;}#sk-container-id-1 div.sk-item {position: relative;z-index: 1;}#sk-container-id-1 div.sk-parallel {display: flex;align-items: stretch;justify-content: center;background-color: white;position: relative;}#sk-container-id-1 div.sk-item::before, #sk-container-id-1 div.sk-parallel-item::before {content: \"\";position: absolute;border-left: 1px solid gray;box-sizing: border-box;top: 0;bottom: 0;left: 50%;z-index: -1;}#sk-container-id-1 div.sk-parallel-item {display: flex;flex-direction: column;z-index: 1;position: relative;background-color: white;}#sk-container-id-1 div.sk-parallel-item:first-child::after {align-self: flex-end;width: 50%;}#sk-container-id-1 div.sk-parallel-item:last-child::after {align-self: flex-start;width: 50%;}#sk-container-id-1 div.sk-parallel-item:only-child::after {width: 0;}#sk-container-id-1 div.sk-dashed-wrapped {border: 1px dashed gray;margin: 0 0.4em 0.5em 0.4em;box-sizing: border-box;padding-bottom: 0.4em;background-color: white;}#sk-container-id-1 div.sk-label label {font-family: monospace;font-weight: bold;display: inline-block;line-height: 1.2em;}#sk-container-id-1 div.sk-label-container {text-align: center;}#sk-container-id-1 div.sk-container {/* jupyter's `normalize.less` sets `[hidden] { display: none; }` but bootstrap.min.css set `[hidden] { display: none !important; }` so we also need the `!important` here to be able to override the default hidden behavior on the sphinx rendered scikit-learn.org. See: https://github.com/scikit-learn/scikit-learn/issues/21755 */display: inline-block !important;position: relative;}#sk-container-id-1 div.sk-text-repr-fallback {display: none;}</style><div id=\"sk-container-id-1\" class=\"sk-top-container\"><div class=\"sk-text-repr-fallback\"><pre>ComplementNB(alpha=0.01)</pre><b>In a Jupyter environment, please rerun this cell to show the HTML representation or trust the notebook. <br />On GitHub, the HTML representation is unable to render, please try loading this page with nbviewer.org.</b></div><div class=\"sk-container\" hidden><div class=\"sk-item\"><div class=\"sk-estimator sk-toggleable\"><input class=\"sk-toggleable__control sk-hidden--visually\" id=\"sk-estimator-id-1\" type=\"checkbox\" checked><label for=\"sk-estimator-id-1\" class=\"sk-toggleable__label sk-toggleable__label-arrow\">ComplementNB</label><div class=\"sk-toggleable__content\"><pre>ComplementNB(alpha=0.01)</pre></div></div></div></div></div>"
      ],
      "text/plain": [
       "ComplementNB(alpha=0.01)"
      ]
     },
     "execution_count": 12,
     "metadata": {},
     "output_type": "execute_result"
    }
   ],
   "source": [
    "nbc = ComplementNB(alpha=0.01)\n",
    "nbc.fit(X_train, y_train)"
   ]
  },
  {
   "cell_type": "markdown",
   "id": "d803fbe3",
   "metadata": {
    "id": "d803fbe3"
   },
   "source": [
    "Оцените результат с точки зрения всех известных вам метрик (не менее трёх):"
   ]
  },
  {
   "cell_type": "code",
   "execution_count": 13,
   "id": "b0bbc4d2",
   "metadata": {
    "id": "b0bbc4d2"
   },
   "outputs": [
    {
     "name": "stdout",
     "output_type": "stream",
     "text": [
      "              precision    recall  f1-score   support\n",
      "\n",
      "           0      0.989     0.998     0.994       625\n",
      "           1      0.992     0.944     0.967       125\n",
      "\n",
      "    accuracy                          0.989       750\n",
      "   macro avg      0.990     0.971     0.980       750\n",
      "weighted avg      0.989     0.989     0.989       750\n",
      "\n"
     ]
    }
   ],
   "source": [
    "y_test_pred = nbc.predict(X_test)\n",
    "print(classification_report(y_test, y_test_pred, digits=3))"
   ]
  },
  {
   "cell_type": "markdown",
   "id": "c85976d1",
   "metadata": {
    "id": "c85976d1"
   },
   "source": [
    "Нарисуйте ROC-кривую:"
   ]
  },
  {
   "cell_type": "code",
   "execution_count": 14,
   "id": "b4195126",
   "metadata": {
    "id": "b4195126"
   },
   "outputs": [
    {
     "data": {
      "image/png": "[encoded data removed]",
      "text/plain": [
       "<Figure size 576x360 with 1 Axes>"
      ]
     },
     "metadata": {
      "needs_background": "light"
     },
     "output_type": "display_data"
    }
   ],
   "source": [
    "y_pred_proba = nbc.predict_proba(X_test)[:,1]\n",
    "fpr, tpr, _ = roc_curve(y_test,  y_pred_proba)\n",
    "auc = roc_auc_score(y_test, y_pred_proba)\n",
    "fig, ax = plt.subplots(figsize=(8, 5))\n",
    "ax.plot(fpr,tpr,label=\"auc=\"+str(round(auc,4)))\n",
    "ax.plot([0, 1], [0, 1],'r--', lw=0.5)\n",
    "plt.title('ROC curve')\n",
    "plt.legend()\n",
    "plt.show()"
   ]
  },
  {
   "cell_type": "markdown",
   "id": "cf0bb49b",
   "metadata": {
    "id": "cf0bb49b"
   },
   "source": [
    "## Задание 5 (3 балла)"
   ]
  },
  {
   "cell_type": "markdown",
   "id": "30b7a0ae",
   "metadata": {
    "id": "30b7a0ae"
   },
   "source": [
    "Переберите несколько значений alpha с помощью кросс-валидации. Оцените, зависит ли от этого параметра качество классификации."
   ]
  },
  {
   "cell_type": "code",
   "execution_count": 15,
   "id": "3513d907",
   "metadata": {
    "id": "3513d907"
   },
   "outputs": [
    {
     "name": "stdout",
     "output_type": "stream",
     "text": [
      "Кросс-валидация, среднее значение метрики по 5 фолдам\n",
      "alpha = 0.001; f1-score = 0.953\n",
      "alpha = 0.010; f1-score = 0.962\n",
      "alpha = 0.100; f1-score = 0.966\n",
      "alpha = 1.000; f1-score = 0.963\n",
      "alpha = 3.000; f1-score = 0.894\n",
      "alpha = 5.000; f1-score = 0.730\n"
     ]
    },
    {
     "data": {
      "image/png": "[encoded data removed]",
      "text/plain": [
       "<Figure size 432x288 with 1 Axes>"
      ]
     },
     "metadata": {
      "needs_background": "light"
     },
     "output_type": "display_data"
    }
   ],
   "source": [
    "print('Кросс-валидация, среднее значение метрики по 5 фолдам')\n",
    "a = [0.001, 0.01, 0.1, 1, 3, 5]\n",
    "for alpha in a:\n",
    "    nbc = ComplementNB(alpha=alpha)\n",
    "    f1_score = cross_val_score(nbc, X_train, y_train, cv=5, scoring='f1').mean()\n",
    "    \n",
    "    print('alpha = {:.3f}; f1-score = {:.3f}'.format(\n",
    "        alpha, f1_score ))\n",
    "    \n",
    "    #визуализация влияния параметра alfa    \n",
    "for alpha in [1e-8, 0.01, 1, 3, 5]:\n",
    "    nbc = ComplementNB(alpha=alpha)    \n",
    "    nbc.fit(X_train, y_train)\n",
    "    y_pred_proba = nbc.predict_proba(X_test)[:,1]\n",
    "    fpr, tpr, _ = roc_curve(y_test,  y_pred_proba)\n",
    "    auc = roc_auc_score(y_test, y_pred_proba)\n",
    "    \n",
    "    plt.plot(fpr,tpr,label=\"alpha=\"+str(alpha))\n",
    "    plt.plot([0, 1], [0, 1],'r--', lw=0.1)\n",
    "    plt.title('ROC curve, обучение на всем X_train')\n",
    "    plt.legend()"
   ]
  },
  {
   "cell_type": "markdown",
   "id": "5a8389e5",
   "metadata": {},
   "source": [
    "Качество классификации зависит от alpha. Можно найти оптимальное значение."
   ]
  },
  {
   "cell_type": "code",
   "execution_count": null,
   "id": "79c89cae",
   "metadata": {},
   "outputs": [],
   "source": []
  }
 ],
 "metadata": {
  "colab": {
   "name": "SGA_unit6_NBC.ipynb",
   "provenance": []
  },
  "kernelspec": {
   "display_name": "Python 3 (ipykernel)",
   "language": "python",
   "name": "python3"
  },
  "language_info": {
   "codemirror_mode": {
    "name": "ipython",
    "version": 3
   },
   "file_extension": ".py",
   "mimetype": "text/x-python",
   "name": "python",
   "nbconvert_exporter": "python",
   "pygments_lexer": "ipython3",
   "version": "3.10.7"
  }
 },
 "nbformat": 4,
 "nbformat_minor": 5
}
