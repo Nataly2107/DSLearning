{
 "cells": [
  {
   "cell_type": "markdown",
   "metadata": {
    "id": "42289889-bd57-434e-9637-d3e354756316"
   },
   "source": [
    "<center> <img src = https://raw.githubusercontent.com/AndreyRysistov/DatasetsForPandas/main/hh%20label.jpg alt=\"drawing\" style=\"width:400px;\">"
   ]
  },
  {
   "cell_type": "markdown",
   "metadata": {
    "id": "829cb75b-f14e-4ba8-9195-7ba929a7d656",
    "tags": []
   },
   "source": [
    "# <center> Проект: Анализ вакансий из HeadHunter\n",
    "   "
   ]
  },
  {
   "cell_type": "code",
   "execution_count": 1,
   "metadata": {
    "id": "dccfde33-2452-43fb-a8a5-5c6ebc02a71d"
   },
   "outputs": [],
   "source": [
    "import pandas as pd\n",
    "import psycopg2"
   ]
  },
  {
   "cell_type": "code",
   "execution_count": 2,
   "metadata": {
    "id": "oVKH4ehvf8Ay"
   },
   "outputs": [],
   "source": [
    "DBNAME = 'project_sql'\n",
    "USER = 'skillfactory'\n",
    "PASSWORD = 'cCkxxLVrDE8EbvjueeMedPKt'\n",
    "HOST = '84.201.134.129'\n",
    "PORT = 5432"
   ]
  },
  {
   "cell_type": "code",
   "execution_count": 3,
   "metadata": {
    "id": "G4X_q8KBf7SF"
   },
   "outputs": [],
   "source": [
    "connection = psycopg2.connect(\n",
    "    dbname=DBNAME,\n",
    "    user=USER,\n",
    "    host=HOST,\n",
    "    password=PASSWORD,\n",
    "    port=PORT\n",
    ")"
   ]
  },
  {
   "cell_type": "code",
   "execution_count": 4,
   "metadata": {},
   "outputs": [
    {
     "data": {
      "text/html": [
       "<div>\n",
       "<style scoped>\n",
       "    .dataframe tbody tr th:only-of-type {\n",
       "        vertical-align: middle;\n",
       "    }\n",
       "\n",
       "    .dataframe tbody tr th {\n",
       "        vertical-align: top;\n",
       "    }\n",
       "\n",
       "    .dataframe thead th {\n",
       "        text-align: right;\n",
       "    }\n",
       "</style>\n",
       "<table border=\"1\" class=\"dataframe\">\n",
       "  <thead>\n",
       "    <tr style=\"text-align: right;\">\n",
       "      <th></th>\n",
       "      <th>employment</th>\n",
       "    </tr>\n",
       "  </thead>\n",
       "  <tbody>\n",
       "    <tr>\n",
       "      <th>0</th>\n",
       "      <td>Стажировка</td>\n",
       "    </tr>\n",
       "    <tr>\n",
       "      <th>1</th>\n",
       "      <td>Частичная занятость</td>\n",
       "    </tr>\n",
       "    <tr>\n",
       "      <th>2</th>\n",
       "      <td>Проектная работа</td>\n",
       "    </tr>\n",
       "    <tr>\n",
       "      <th>3</th>\n",
       "      <td>Полная занятость</td>\n",
       "    </tr>\n",
       "  </tbody>\n",
       "</table>\n",
       "</div>"
      ],
      "text/plain": [
       "            employment\n",
       "0           Стажировка\n",
       "1  Частичная занятость\n",
       "2     Проектная работа\n",
       "3     Полная занятость"
      ]
     },
     "execution_count": 4,
     "metadata": {},
     "output_type": "execute_result"
    }
   ],
   "source": [
    "query = f'''select distinct(employment)\n",
    "        from vacancies\n",
    "'''\n",
    "count = pd.read_sql_query(query, connection)\n",
    "count"
   ]
  },
  {
   "cell_type": "markdown",
   "metadata": {
    "id": "0dc6476b-7a00-44f1-ac93-6e3baed33a29"
   },
   "source": [
    "# Юнит 3. Предварительный анализ данных"
   ]
  },
  {
   "cell_type": "markdown",
   "metadata": {
    "id": "889782b6-8d1c-410e-8920-e57f27917c64"
   },
   "source": [
    "1. Напишите запрос, который посчитает количество вакансий в нашей базе (вакансии находятся в таблице vacancies). "
   ]
  },
  {
   "cell_type": "code",
   "execution_count": 5,
   "metadata": {
    "id": "bc39e68e-ed02-4ee2-9235-7258a2f867a8"
   },
   "outputs": [],
   "source": [
    "# текст запроса\n",
    "query_3_1 = f'''select count(*) \n",
    "            from vacancies\n",
    "'''"
   ]
  },
  {
   "cell_type": "code",
   "execution_count": 6,
   "metadata": {
    "id": "7mAwtsk4hEHY"
   },
   "outputs": [
    {
     "data": {
      "text/html": [
       "<div>\n",
       "<style scoped>\n",
       "    .dataframe tbody tr th:only-of-type {\n",
       "        vertical-align: middle;\n",
       "    }\n",
       "\n",
       "    .dataframe tbody tr th {\n",
       "        vertical-align: top;\n",
       "    }\n",
       "\n",
       "    .dataframe thead th {\n",
       "        text-align: right;\n",
       "    }\n",
       "</style>\n",
       "<table border=\"1\" class=\"dataframe\">\n",
       "  <thead>\n",
       "    <tr style=\"text-align: right;\">\n",
       "      <th></th>\n",
       "      <th>count</th>\n",
       "    </tr>\n",
       "  </thead>\n",
       "  <tbody>\n",
       "    <tr>\n",
       "      <th>0</th>\n",
       "      <td>49197</td>\n",
       "    </tr>\n",
       "  </tbody>\n",
       "</table>\n",
       "</div>"
      ],
      "text/plain": [
       "   count\n",
       "0  49197"
      ]
     },
     "execution_count": 6,
     "metadata": {},
     "output_type": "execute_result"
    }
   ],
   "source": [
    "# результат запроса\n",
    "count_vac = pd.read_sql_query(query_3_1, connection)\n",
    "count_vac"
   ]
  },
  {
   "cell_type": "markdown",
   "metadata": {
    "id": "b583485d-1f9e-494e-ada4-80ffff7c53d6"
   },
   "source": [
    "2. Напишите запрос, который посчитает количество работодателей (таблица employers). "
   ]
  },
  {
   "cell_type": "code",
   "execution_count": 7,
   "metadata": {
    "id": "5408c52c-3407-4a63-b25b-1aafa2322d28"
   },
   "outputs": [],
   "source": [
    "query_emp = f'''select count(*) \n",
    "            from employers\n",
    "'''"
   ]
  },
  {
   "cell_type": "code",
   "execution_count": 8,
   "metadata": {
    "id": "jVL4eshKhdqc"
   },
   "outputs": [
    {
     "data": {
      "text/html": [
       "<div>\n",
       "<style scoped>\n",
       "    .dataframe tbody tr th:only-of-type {\n",
       "        vertical-align: middle;\n",
       "    }\n",
       "\n",
       "    .dataframe tbody tr th {\n",
       "        vertical-align: top;\n",
       "    }\n",
       "\n",
       "    .dataframe thead th {\n",
       "        text-align: right;\n",
       "    }\n",
       "</style>\n",
       "<table border=\"1\" class=\"dataframe\">\n",
       "  <thead>\n",
       "    <tr style=\"text-align: right;\">\n",
       "      <th></th>\n",
       "      <th>count</th>\n",
       "    </tr>\n",
       "  </thead>\n",
       "  <tbody>\n",
       "    <tr>\n",
       "      <th>0</th>\n",
       "      <td>23501</td>\n",
       "    </tr>\n",
       "  </tbody>\n",
       "</table>\n",
       "</div>"
      ],
      "text/plain": [
       "   count\n",
       "0  23501"
      ]
     },
     "execution_count": 8,
     "metadata": {},
     "output_type": "execute_result"
    }
   ],
   "source": [
    "# результат запроса\n",
    "count_emp = pd.read_sql_query(query_emp, connection)\n",
    "count_emp"
   ]
  },
  {
   "cell_type": "markdown",
   "metadata": {
    "id": "a2bfff1f-c975-4bf6-84be-2185d79dcb76"
   },
   "source": [
    "3. Посчитате с помощью запроса количество регионов (таблица areas)."
   ]
  },
  {
   "cell_type": "code",
   "execution_count": 9,
   "metadata": {
    "id": "1m8QJwBYhey6"
   },
   "outputs": [],
   "source": [
    "# текст запроса\n",
    "query_ar = f'''select count(*) \n",
    "            from areas\n",
    "'''"
   ]
  },
  {
   "cell_type": "code",
   "execution_count": 10,
   "metadata": {
    "id": "EZsn9tlfhe7f"
   },
   "outputs": [
    {
     "data": {
      "text/html": [
       "<div>\n",
       "<style scoped>\n",
       "    .dataframe tbody tr th:only-of-type {\n",
       "        vertical-align: middle;\n",
       "    }\n",
       "\n",
       "    .dataframe tbody tr th {\n",
       "        vertical-align: top;\n",
       "    }\n",
       "\n",
       "    .dataframe thead th {\n",
       "        text-align: right;\n",
       "    }\n",
       "</style>\n",
       "<table border=\"1\" class=\"dataframe\">\n",
       "  <thead>\n",
       "    <tr style=\"text-align: right;\">\n",
       "      <th></th>\n",
       "      <th>count</th>\n",
       "    </tr>\n",
       "  </thead>\n",
       "  <tbody>\n",
       "    <tr>\n",
       "      <th>0</th>\n",
       "      <td>1362</td>\n",
       "    </tr>\n",
       "  </tbody>\n",
       "</table>\n",
       "</div>"
      ],
      "text/plain": [
       "   count\n",
       "0   1362"
      ]
     },
     "execution_count": 10,
     "metadata": {},
     "output_type": "execute_result"
    }
   ],
   "source": [
    "# результат запроса\n",
    "count_ar = pd.read_sql_query(query_ar, connection)\n",
    "count_ar"
   ]
  },
  {
   "cell_type": "markdown",
   "metadata": {
    "id": "41bb59f3-53cc-4a67-a5bc-bedf573955e4"
   },
   "source": [
    "4. Посчитате с помощью запроса количество сфер деятельности в базе (таблица industries)."
   ]
  },
  {
   "cell_type": "code",
   "execution_count": 11,
   "metadata": {
    "id": "d286cf4c-707b-4cd2-9190-7ab3587d04a1"
   },
   "outputs": [],
   "source": [
    "# текст запроса\n",
    "query_in = f'''select count(*) \n",
    "            from industries\n",
    "'''"
   ]
  },
  {
   "cell_type": "code",
   "execution_count": 12,
   "metadata": {
    "id": "JYAaoZ4qhfzW"
   },
   "outputs": [
    {
     "data": {
      "text/html": [
       "<div>\n",
       "<style scoped>\n",
       "    .dataframe tbody tr th:only-of-type {\n",
       "        vertical-align: middle;\n",
       "    }\n",
       "\n",
       "    .dataframe tbody tr th {\n",
       "        vertical-align: top;\n",
       "    }\n",
       "\n",
       "    .dataframe thead th {\n",
       "        text-align: right;\n",
       "    }\n",
       "</style>\n",
       "<table border=\"1\" class=\"dataframe\">\n",
       "  <thead>\n",
       "    <tr style=\"text-align: right;\">\n",
       "      <th></th>\n",
       "      <th>count</th>\n",
       "    </tr>\n",
       "  </thead>\n",
       "  <tbody>\n",
       "    <tr>\n",
       "      <th>0</th>\n",
       "      <td>294</td>\n",
       "    </tr>\n",
       "  </tbody>\n",
       "</table>\n",
       "</div>"
      ],
      "text/plain": [
       "   count\n",
       "0    294"
      ]
     },
     "execution_count": 12,
     "metadata": {},
     "output_type": "execute_result"
    }
   ],
   "source": [
    "# результат запроса\n",
    "count_in = pd.read_sql_query(query_in, connection)\n",
    "count_in"
   ]
  },
  {
   "cell_type": "markdown",
   "metadata": {
    "id": "9a8a2181-6914-448b-85f1-38f5f18b8a93"
   },
   "source": [
    "***"
   ]
  },
  {
   "cell_type": "markdown",
   "metadata": {
    "id": "be4e9bd3-a4db-4a20-82fb-6b02fc2957e0"
   },
   "source": [
    "#### выводы по предварительному анализу данных:\n",
    "В базе находится 49197 вакансий 23501 работодателей по 294 сферам деятельности в 1362 регионах."
   ]
  },
  {
   "cell_type": "markdown",
   "metadata": {
    "id": "8d62a9f3-f64e-4fe7-bdac-c4dffa16155e"
   },
   "source": [
    "# Юнит 4. Детальный анализ вакансий"
   ]
  },
  {
   "cell_type": "markdown",
   "metadata": {
    "id": "93053d3d-b284-481a-9cf7-012d7014c0e0"
   },
   "source": [
    "1. Напишите запрос, который позволит узнать, сколько (cnt) вакансий в каждом регионе (area).\n",
    "Отсортируйте по количеству вакансий в порядке убывания."
   ]
  },
  {
   "cell_type": "code",
   "execution_count": 13,
   "metadata": {
    "id": "3f069da6-fdc9-4ae7-b514-fafe2675efd3"
   },
   "outputs": [],
   "source": [
    "# текст запроса\n",
    "query_vac_area = f'''select areas.name, count(vacancies.id) \n",
    "            from areas, vacancies where areas.id=vacancies.area_id \n",
    "            group by areas.name \n",
    "            order by count(vacancies.id) desc\n",
    "'''"
   ]
  },
  {
   "cell_type": "code",
   "execution_count": 14,
   "metadata": {
    "id": "P7QL86hrjhRJ"
   },
   "outputs": [
    {
     "data": {
      "text/html": [
       "<div>\n",
       "<style scoped>\n",
       "    .dataframe tbody tr th:only-of-type {\n",
       "        vertical-align: middle;\n",
       "    }\n",
       "\n",
       "    .dataframe tbody tr th {\n",
       "        vertical-align: top;\n",
       "    }\n",
       "\n",
       "    .dataframe thead th {\n",
       "        text-align: right;\n",
       "    }\n",
       "</style>\n",
       "<table border=\"1\" class=\"dataframe\">\n",
       "  <thead>\n",
       "    <tr style=\"text-align: right;\">\n",
       "      <th></th>\n",
       "      <th>name</th>\n",
       "      <th>count</th>\n",
       "    </tr>\n",
       "  </thead>\n",
       "  <tbody>\n",
       "    <tr>\n",
       "      <th>0</th>\n",
       "      <td>Москва</td>\n",
       "      <td>5333</td>\n",
       "    </tr>\n",
       "    <tr>\n",
       "      <th>1</th>\n",
       "      <td>Санкт-Петербург</td>\n",
       "      <td>2851</td>\n",
       "    </tr>\n",
       "    <tr>\n",
       "      <th>2</th>\n",
       "      <td>Минск</td>\n",
       "      <td>2112</td>\n",
       "    </tr>\n",
       "    <tr>\n",
       "      <th>3</th>\n",
       "      <td>Новосибирск</td>\n",
       "      <td>2006</td>\n",
       "    </tr>\n",
       "    <tr>\n",
       "      <th>4</th>\n",
       "      <td>Алматы</td>\n",
       "      <td>1892</td>\n",
       "    </tr>\n",
       "    <tr>\n",
       "      <th>...</th>\n",
       "      <td>...</td>\n",
       "      <td>...</td>\n",
       "    </tr>\n",
       "    <tr>\n",
       "      <th>764</th>\n",
       "      <td>Тарко-Сале</td>\n",
       "      <td>1</td>\n",
       "    </tr>\n",
       "    <tr>\n",
       "      <th>765</th>\n",
       "      <td>Новоаннинский</td>\n",
       "      <td>1</td>\n",
       "    </tr>\n",
       "    <tr>\n",
       "      <th>766</th>\n",
       "      <td>Бирск</td>\n",
       "      <td>1</td>\n",
       "    </tr>\n",
       "    <tr>\n",
       "      <th>767</th>\n",
       "      <td>Сасово</td>\n",
       "      <td>1</td>\n",
       "    </tr>\n",
       "    <tr>\n",
       "      <th>768</th>\n",
       "      <td>Анна</td>\n",
       "      <td>1</td>\n",
       "    </tr>\n",
       "  </tbody>\n",
       "</table>\n",
       "<p>769 rows × 2 columns</p>\n",
       "</div>"
      ],
      "text/plain": [
       "                name  count\n",
       "0             Москва   5333\n",
       "1    Санкт-Петербург   2851\n",
       "2              Минск   2112\n",
       "3        Новосибирск   2006\n",
       "4             Алматы   1892\n",
       "..               ...    ...\n",
       "764       Тарко-Сале      1\n",
       "765    Новоаннинский      1\n",
       "766            Бирск      1\n",
       "767           Сасово      1\n",
       "768             Анна      1\n",
       "\n",
       "[769 rows x 2 columns]"
      ]
     },
     "execution_count": 14,
     "metadata": {},
     "output_type": "execute_result"
    }
   ],
   "source": [
    "# результат запроса\n",
    "count_vac_area = pd.read_sql_query(query_vac_area, connection)\n",
    "count_vac_area"
   ]
  },
  {
   "cell_type": "markdown",
   "metadata": {
    "id": "4266f0b6-1646-492a-88b4-2f6a46502135"
   },
   "source": [
    "2. Напишите запрос, чтобы определить у какого количества вакансий заполнено хотя бы одно из двух полей с зарплатой."
   ]
  },
  {
   "cell_type": "code",
   "execution_count": 15,
   "metadata": {
    "id": "0c44b350-72eb-4d65-8b54-a1fc449ba9fd"
   },
   "outputs": [],
   "source": [
    "# текст запроса\n",
    "query_salary = f'''select count(vacancies.id) \n",
    "            from vacancies\n",
    "            where vacancies.salary_from is not null or vacancies.salary_to is not null\n",
    "            \n",
    "'''"
   ]
  },
  {
   "cell_type": "code",
   "execution_count": 16,
   "metadata": {
    "id": "rhvwaMDkoWTi"
   },
   "outputs": [
    {
     "data": {
      "text/html": [
       "<div>\n",
       "<style scoped>\n",
       "    .dataframe tbody tr th:only-of-type {\n",
       "        vertical-align: middle;\n",
       "    }\n",
       "\n",
       "    .dataframe tbody tr th {\n",
       "        vertical-align: top;\n",
       "    }\n",
       "\n",
       "    .dataframe thead th {\n",
       "        text-align: right;\n",
       "    }\n",
       "</style>\n",
       "<table border=\"1\" class=\"dataframe\">\n",
       "  <thead>\n",
       "    <tr style=\"text-align: right;\">\n",
       "      <th></th>\n",
       "      <th>count</th>\n",
       "    </tr>\n",
       "  </thead>\n",
       "  <tbody>\n",
       "    <tr>\n",
       "      <th>0</th>\n",
       "      <td>24073</td>\n",
       "    </tr>\n",
       "  </tbody>\n",
       "</table>\n",
       "</div>"
      ],
      "text/plain": [
       "   count\n",
       "0  24073"
      ]
     },
     "execution_count": 16,
     "metadata": {},
     "output_type": "execute_result"
    }
   ],
   "source": [
    "# результат запроса\n",
    "count_salary = pd.read_sql_query(query_salary, connection)\n",
    "count_salary"
   ]
  },
  {
   "cell_type": "markdown",
   "metadata": {
    "id": "635c4d5d-f323-4c66-b428-50a088120aa0"
   },
   "source": [
    "3. Найдите средние значения для нижней и верхней границы зарплатной вилки. Округлите значения до целого."
   ]
  },
  {
   "cell_type": "code",
   "execution_count": 17,
   "metadata": {
    "id": "603cdbe4-0ec3-4106-8eaf-c73fcdd29165"
   },
   "outputs": [],
   "source": [
    "# текст запроса\n",
    "query_salary_from = f'''select avg(vacancies.salary_from) \n",
    "            from vacancies                    \n",
    "'''\n",
    "\n",
    "query_salary_to = f'''select avg(vacancies.salary_to) \n",
    "            from vacancies                    \n",
    "'''"
   ]
  },
  {
   "cell_type": "code",
   "execution_count": 18,
   "metadata": {
    "id": "pswpAb66ovZZ"
   },
   "outputs": [
    {
     "name": "stdout",
     "output_type": "stream",
     "text": [
      "Нижняя граница зарплаты:             avg\n",
      "0  71064.657901\n",
      "Нижняя граница зарплаты:              avg\n",
      "0  110536.741923\n"
     ]
    }
   ],
   "source": [
    "# результат запроса\n",
    "count_salary_from = pd.read_sql_query(query_salary_from, connection)\n",
    "count_salary_from\n",
    "count_salary_to = pd.read_sql_query(query_salary_to, connection)\n",
    "count_salary_to\n",
    "print('Нижняя граница зарплаты:',(count_salary_from))\n",
    "print('Нижняя граница зарплаты:',(count_salary_to))"
   ]
  },
  {
   "cell_type": "markdown",
   "metadata": {
    "id": "f3fdaec9-5fd3-4260-9cf5-1d7406b628a5"
   },
   "source": [
    "4. Напишите запрос, который выведет количество вакансий для каждого сочетания типа рабочего графика (schedule) и типа трудоустройства (employment), используемого в вакансиях. Результат отсортируйте по убыванию количества.\n"
   ]
  },
  {
   "cell_type": "code",
   "execution_count": 19,
   "metadata": {
    "id": "1ea710ec-871b-431e-9462-c7d0fd87011b"
   },
   "outputs": [],
   "source": [
    "# текст запроса\n",
    "query_sch_em = f'''select count(*) cnt, schedule, employment\n",
    "            from vacancies \n",
    "            group by schedule, employment\n",
    "            order by cnt desc\n",
    "'''"
   ]
  },
  {
   "cell_type": "code",
   "execution_count": 20,
   "metadata": {
    "id": "lGUVqavdo4JQ"
   },
   "outputs": [
    {
     "data": {
      "text/html": [
       "<div>\n",
       "<style scoped>\n",
       "    .dataframe tbody tr th:only-of-type {\n",
       "        vertical-align: middle;\n",
       "    }\n",
       "\n",
       "    .dataframe tbody tr th {\n",
       "        vertical-align: top;\n",
       "    }\n",
       "\n",
       "    .dataframe thead th {\n",
       "        text-align: right;\n",
       "    }\n",
       "</style>\n",
       "<table border=\"1\" class=\"dataframe\">\n",
       "  <thead>\n",
       "    <tr style=\"text-align: right;\">\n",
       "      <th></th>\n",
       "      <th>cnt</th>\n",
       "      <th>schedule</th>\n",
       "      <th>employment</th>\n",
       "    </tr>\n",
       "  </thead>\n",
       "  <tbody>\n",
       "    <tr>\n",
       "      <th>0</th>\n",
       "      <td>35367</td>\n",
       "      <td>Полный день</td>\n",
       "      <td>Полная занятость</td>\n",
       "    </tr>\n",
       "    <tr>\n",
       "      <th>1</th>\n",
       "      <td>7802</td>\n",
       "      <td>Удаленная работа</td>\n",
       "      <td>Полная занятость</td>\n",
       "    </tr>\n",
       "    <tr>\n",
       "      <th>2</th>\n",
       "      <td>1593</td>\n",
       "      <td>Гибкий график</td>\n",
       "      <td>Полная занятость</td>\n",
       "    </tr>\n",
       "    <tr>\n",
       "      <th>3</th>\n",
       "      <td>1312</td>\n",
       "      <td>Удаленная работа</td>\n",
       "      <td>Частичная занятость</td>\n",
       "    </tr>\n",
       "    <tr>\n",
       "      <th>4</th>\n",
       "      <td>940</td>\n",
       "      <td>Сменный график</td>\n",
       "      <td>Полная занятость</td>\n",
       "    </tr>\n",
       "    <tr>\n",
       "      <th>5</th>\n",
       "      <td>569</td>\n",
       "      <td>Полный день</td>\n",
       "      <td>Стажировка</td>\n",
       "    </tr>\n",
       "    <tr>\n",
       "      <th>6</th>\n",
       "      <td>367</td>\n",
       "      <td>Вахтовый метод</td>\n",
       "      <td>Полная занятость</td>\n",
       "    </tr>\n",
       "    <tr>\n",
       "      <th>7</th>\n",
       "      <td>347</td>\n",
       "      <td>Полный день</td>\n",
       "      <td>Частичная занятость</td>\n",
       "    </tr>\n",
       "    <tr>\n",
       "      <th>8</th>\n",
       "      <td>312</td>\n",
       "      <td>Гибкий график</td>\n",
       "      <td>Частичная занятость</td>\n",
       "    </tr>\n",
       "    <tr>\n",
       "      <th>9</th>\n",
       "      <td>141</td>\n",
       "      <td>Полный день</td>\n",
       "      <td>Проектная работа</td>\n",
       "    </tr>\n",
       "    <tr>\n",
       "      <th>10</th>\n",
       "      <td>133</td>\n",
       "      <td>Удаленная работа</td>\n",
       "      <td>Проектная работа</td>\n",
       "    </tr>\n",
       "    <tr>\n",
       "      <th>11</th>\n",
       "      <td>116</td>\n",
       "      <td>Гибкий график</td>\n",
       "      <td>Стажировка</td>\n",
       "    </tr>\n",
       "    <tr>\n",
       "      <th>12</th>\n",
       "      <td>101</td>\n",
       "      <td>Сменный график</td>\n",
       "      <td>Частичная занятость</td>\n",
       "    </tr>\n",
       "    <tr>\n",
       "      <th>13</th>\n",
       "      <td>64</td>\n",
       "      <td>Удаленная работа</td>\n",
       "      <td>Стажировка</td>\n",
       "    </tr>\n",
       "    <tr>\n",
       "      <th>14</th>\n",
       "      <td>18</td>\n",
       "      <td>Гибкий график</td>\n",
       "      <td>Проектная работа</td>\n",
       "    </tr>\n",
       "    <tr>\n",
       "      <th>15</th>\n",
       "      <td>12</td>\n",
       "      <td>Сменный график</td>\n",
       "      <td>Стажировка</td>\n",
       "    </tr>\n",
       "    <tr>\n",
       "      <th>16</th>\n",
       "      <td>2</td>\n",
       "      <td>Вахтовый метод</td>\n",
       "      <td>Проектная работа</td>\n",
       "    </tr>\n",
       "    <tr>\n",
       "      <th>17</th>\n",
       "      <td>1</td>\n",
       "      <td>Сменный график</td>\n",
       "      <td>Проектная работа</td>\n",
       "    </tr>\n",
       "  </tbody>\n",
       "</table>\n",
       "</div>"
      ],
      "text/plain": [
       "      cnt          schedule           employment\n",
       "0   35367       Полный день     Полная занятость\n",
       "1    7802  Удаленная работа     Полная занятость\n",
       "2    1593     Гибкий график     Полная занятость\n",
       "3    1312  Удаленная работа  Частичная занятость\n",
       "4     940    Сменный график     Полная занятость\n",
       "5     569       Полный день           Стажировка\n",
       "6     367    Вахтовый метод     Полная занятость\n",
       "7     347       Полный день  Частичная занятость\n",
       "8     312     Гибкий график  Частичная занятость\n",
       "9     141       Полный день     Проектная работа\n",
       "10    133  Удаленная работа     Проектная работа\n",
       "11    116     Гибкий график           Стажировка\n",
       "12    101    Сменный график  Частичная занятость\n",
       "13     64  Удаленная работа           Стажировка\n",
       "14     18     Гибкий график     Проектная работа\n",
       "15     12    Сменный график           Стажировка\n",
       "16      2    Вахтовый метод     Проектная работа\n",
       "17      1    Сменный график     Проектная работа"
      ]
     },
     "execution_count": 20,
     "metadata": {},
     "output_type": "execute_result"
    }
   ],
   "source": [
    "# результат запроса\n",
    "count_sch_em = pd.read_sql_query(query_sch_em, connection)\n",
    "count_sch_em"
   ]
  },
  {
   "cell_type": "markdown",
   "metadata": {
    "id": "0136ffee-0ead-4a6b-b608-61d1c753a438"
   },
   "source": [
    "5. Напишите запрос, выводящий значения поля Требуемый опыт работы (experience) в порядке возрастания количества вакансий, в которых указан данный вариант опыта. "
   ]
  },
  {
   "cell_type": "code",
   "execution_count": 21,
   "metadata": {
    "id": "5b3a8e79-f7ab-4008-b767-12aea3a205ea"
   },
   "outputs": [],
   "source": [
    "# текст запроса\n",
    "query_ex = f'''select count(*) cnt, experience\n",
    "            from vacancies \n",
    "            group by experience\n",
    "            order by cnt asc\n",
    "'''"
   ]
  },
  {
   "cell_type": "code",
   "execution_count": 22,
   "metadata": {
    "id": "3Is64Y-hpDpq"
   },
   "outputs": [
    {
     "data": {
      "text/html": [
       "<div>\n",
       "<style scoped>\n",
       "    .dataframe tbody tr th:only-of-type {\n",
       "        vertical-align: middle;\n",
       "    }\n",
       "\n",
       "    .dataframe tbody tr th {\n",
       "        vertical-align: top;\n",
       "    }\n",
       "\n",
       "    .dataframe thead th {\n",
       "        text-align: right;\n",
       "    }\n",
       "</style>\n",
       "<table border=\"1\" class=\"dataframe\">\n",
       "  <thead>\n",
       "    <tr style=\"text-align: right;\">\n",
       "      <th></th>\n",
       "      <th>cnt</th>\n",
       "      <th>experience</th>\n",
       "    </tr>\n",
       "  </thead>\n",
       "  <tbody>\n",
       "    <tr>\n",
       "      <th>0</th>\n",
       "      <td>1337</td>\n",
       "      <td>Более 6 лет</td>\n",
       "    </tr>\n",
       "    <tr>\n",
       "      <th>1</th>\n",
       "      <td>7197</td>\n",
       "      <td>Нет опыта</td>\n",
       "    </tr>\n",
       "    <tr>\n",
       "      <th>2</th>\n",
       "      <td>14511</td>\n",
       "      <td>От 3 до 6 лет</td>\n",
       "    </tr>\n",
       "    <tr>\n",
       "      <th>3</th>\n",
       "      <td>26152</td>\n",
       "      <td>От 1 года до 3 лет</td>\n",
       "    </tr>\n",
       "  </tbody>\n",
       "</table>\n",
       "</div>"
      ],
      "text/plain": [
       "     cnt          experience\n",
       "0   1337         Более 6 лет\n",
       "1   7197           Нет опыта\n",
       "2  14511       От 3 до 6 лет\n",
       "3  26152  От 1 года до 3 лет"
      ]
     },
     "execution_count": 22,
     "metadata": {},
     "output_type": "execute_result"
    }
   ],
   "source": [
    "# результат запроса\n",
    "count_ex = pd.read_sql_query(query_ex, connection)\n",
    "count_ex"
   ]
  },
  {
   "cell_type": "markdown",
   "metadata": {
    "id": "oq2b7n1QpIka"
   },
   "source": [
    "***"
   ]
  },
  {
   "cell_type": "markdown",
   "metadata": {
    "id": "e91f87ed-e25c-4f96-9f92-b642e8c0b4fa"
   },
   "source": [
    "#### выводы по детальному анализу вакансий\n",
    "В таких регионах как Москва, Санкт-Петербург, Минск, Новосибирск, Алматы представлено самое большое количество вакансий. Средний диапазон зарплат варьируется от 71065 до 110537. Больше всех вакансий с требованием от 1 до 3 лет опыта работы."
   ]
  },
  {
   "cell_type": "markdown",
   "metadata": {
    "id": "7ea20ab6-04a7-40a0-adec-443a0e5a42c3"
   },
   "source": [
    "# Юнит 5. Анализ работодателей"
   ]
  },
  {
   "cell_type": "markdown",
   "metadata": {
    "id": "968aed80-74ef-4ffb-b5bf-c65b84e9caea"
   },
   "source": [
    "1. Напишите запрос, который позволит узнать, какие работодатели находятся на первом и пятом месте по количеству вакансий."
   ]
  },
  {
   "cell_type": "code",
   "execution_count": 24,
   "metadata": {
    "id": "f2d62796-d400-4ec1-a675-88112739a50e"
   },
   "outputs": [],
   "source": [
    "# текст запроса\n",
    "query_em_vac = f'''select employers.name, count(vacancies.id) cnt\n",
    "            from  employers left join vacancies \n",
    "            on vacancies.employer_id=employers.id\n",
    "            group by employers.name\n",
    "            order by cnt desc\n",
    "            limit 10\n",
    "            \n",
    "'''"
   ]
  },
  {
   "cell_type": "code",
   "execution_count": 25,
   "metadata": {
    "id": "64tOMkAxqkQk"
   },
   "outputs": [
    {
     "data": {
      "text/html": [
       "<div>\n",
       "<style scoped>\n",
       "    .dataframe tbody tr th:only-of-type {\n",
       "        vertical-align: middle;\n",
       "    }\n",
       "\n",
       "    .dataframe tbody tr th {\n",
       "        vertical-align: top;\n",
       "    }\n",
       "\n",
       "    .dataframe thead th {\n",
       "        text-align: right;\n",
       "    }\n",
       "</style>\n",
       "<table border=\"1\" class=\"dataframe\">\n",
       "  <thead>\n",
       "    <tr style=\"text-align: right;\">\n",
       "      <th></th>\n",
       "      <th>name</th>\n",
       "      <th>cnt</th>\n",
       "    </tr>\n",
       "  </thead>\n",
       "  <tbody>\n",
       "    <tr>\n",
       "      <th>0</th>\n",
       "      <td>Яндекс</td>\n",
       "      <td>1933</td>\n",
       "    </tr>\n",
       "    <tr>\n",
       "      <th>1</th>\n",
       "      <td>Ростелеком</td>\n",
       "      <td>491</td>\n",
       "    </tr>\n",
       "    <tr>\n",
       "      <th>2</th>\n",
       "      <td>Тинькофф</td>\n",
       "      <td>444</td>\n",
       "    </tr>\n",
       "    <tr>\n",
       "      <th>3</th>\n",
       "      <td>СБЕР</td>\n",
       "      <td>428</td>\n",
       "    </tr>\n",
       "    <tr>\n",
       "      <th>4</th>\n",
       "      <td>Газпром нефть</td>\n",
       "      <td>331</td>\n",
       "    </tr>\n",
       "    <tr>\n",
       "      <th>5</th>\n",
       "      <td>ИК СИБИНТЕК</td>\n",
       "      <td>327</td>\n",
       "    </tr>\n",
       "    <tr>\n",
       "      <th>6</th>\n",
       "      <td>МТС</td>\n",
       "      <td>292</td>\n",
       "    </tr>\n",
       "    <tr>\n",
       "      <th>7</th>\n",
       "      <td>DataArt</td>\n",
       "      <td>247</td>\n",
       "    </tr>\n",
       "    <tr>\n",
       "      <th>8</th>\n",
       "      <td>Совкомбанк Технологии</td>\n",
       "      <td>204</td>\n",
       "    </tr>\n",
       "    <tr>\n",
       "      <th>9</th>\n",
       "      <td>Первый Бит</td>\n",
       "      <td>176</td>\n",
       "    </tr>\n",
       "  </tbody>\n",
       "</table>\n",
       "</div>"
      ],
      "text/plain": [
       "                    name   cnt\n",
       "0                 Яндекс  1933\n",
       "1             Ростелеком   491\n",
       "2               Тинькофф   444\n",
       "3                   СБЕР   428\n",
       "4          Газпром нефть   331\n",
       "5            ИК СИБИНТЕК   327\n",
       "6                    МТС   292\n",
       "7                DataArt   247\n",
       "8  Совкомбанк Технологии   204\n",
       "9             Первый Бит   176"
      ]
     },
     "execution_count": 25,
     "metadata": {},
     "output_type": "execute_result"
    }
   ],
   "source": [
    "# результат запроса\n",
    "count_em_vac = pd.read_sql_query(query_em_vac, connection)\n",
    "count_em_vac"
   ]
  },
  {
   "cell_type": "markdown",
   "metadata": {
    "id": "68377cfc-b378-43dc-ab7d-1195abf2c515"
   },
   "source": [
    "2. Напишите запрос, который для каждого региона выведет количество работодателей и вакансий в нём.\n",
    "Среди регионов, в которых нет вакансий, найдите тот, в котором наибольшее количество работодателей.\n"
   ]
  },
  {
   "cell_type": "code",
   "execution_count": 26,
   "metadata": {},
   "outputs": [],
   "source": [
    "query_em_vac_area = f'''select * from (select areas.name, count(employers.id) cnt_emp, count(vacancies.id) cnt_vac\n",
    "            from  areas \n",
    "            left join employers\n",
    "            on employers.area=areas.id\n",
    "            left join vacancies \n",
    "            on vacancies.area_id=areas.id \n",
    "            group by areas.name\n",
    "            order by cnt_emp desc            \n",
    "            ) as foo where cnt_vac=0 limit 1\n",
    "'''"
   ]
  },
  {
   "cell_type": "code",
   "execution_count": 27,
   "metadata": {
    "id": "x1ikWbydrbf6"
   },
   "outputs": [
    {
     "data": {
      "text/html": [
       "<div>\n",
       "<style scoped>\n",
       "    .dataframe tbody tr th:only-of-type {\n",
       "        vertical-align: middle;\n",
       "    }\n",
       "\n",
       "    .dataframe tbody tr th {\n",
       "        vertical-align: top;\n",
       "    }\n",
       "\n",
       "    .dataframe thead th {\n",
       "        text-align: right;\n",
       "    }\n",
       "</style>\n",
       "<table border=\"1\" class=\"dataframe\">\n",
       "  <thead>\n",
       "    <tr style=\"text-align: right;\">\n",
       "      <th></th>\n",
       "      <th>name</th>\n",
       "      <th>cnt_emp</th>\n",
       "      <th>cnt_vac</th>\n",
       "    </tr>\n",
       "  </thead>\n",
       "  <tbody>\n",
       "    <tr>\n",
       "      <th>0</th>\n",
       "      <td>Россия</td>\n",
       "      <td>410</td>\n",
       "      <td>0</td>\n",
       "    </tr>\n",
       "  </tbody>\n",
       "</table>\n",
       "</div>"
      ],
      "text/plain": [
       "     name  cnt_emp  cnt_vac\n",
       "0  Россия      410        0"
      ]
     },
     "execution_count": 27,
     "metadata": {},
     "output_type": "execute_result"
    }
   ],
   "source": [
    "# результат запроса\n",
    "count_em_vac_area = pd.read_sql_query(query_em_vac_area, connection)\n",
    "count_em_vac_area"
   ]
  },
  {
   "cell_type": "markdown",
   "metadata": {
    "id": "f2fe0acb-ab1a-4e15-9326-2560e22d73c1"
   },
   "source": [
    "3. Для каждого работодателя посчитайте количество регионов, в которых он публикует свои вакансии. Отсортируйте результат по убыванию количества.\n"
   ]
  },
  {
   "cell_type": "code",
   "execution_count": 28,
   "metadata": {
    "id": "6271f8ad-bd2e-4196-ae4a-5b39c4c1010e"
   },
   "outputs": [],
   "source": [
    "# текст запроса\n",
    "query_em_area = f'''select employers.name, count(DISTINCT vacancies.area_id) cnt_areas\n",
    "            from  employers\n",
    "            left join vacancies \n",
    "            on vacancies.employer_id=employers.id          \n",
    "            group by employers.name\n",
    "            order by cnt_areas desc              \n",
    "            \n",
    "'''"
   ]
  },
  {
   "cell_type": "code",
   "execution_count": 29,
   "metadata": {
    "id": "1EIvX3HasH4F"
   },
   "outputs": [
    {
     "data": {
      "text/html": [
       "<div>\n",
       "<style scoped>\n",
       "    .dataframe tbody tr th:only-of-type {\n",
       "        vertical-align: middle;\n",
       "    }\n",
       "\n",
       "    .dataframe tbody tr th {\n",
       "        vertical-align: top;\n",
       "    }\n",
       "\n",
       "    .dataframe thead th {\n",
       "        text-align: right;\n",
       "    }\n",
       "</style>\n",
       "<table border=\"1\" class=\"dataframe\">\n",
       "  <thead>\n",
       "    <tr style=\"text-align: right;\">\n",
       "      <th></th>\n",
       "      <th>name</th>\n",
       "      <th>cnt_areas</th>\n",
       "    </tr>\n",
       "  </thead>\n",
       "  <tbody>\n",
       "    <tr>\n",
       "      <th>0</th>\n",
       "      <td>Яндекс</td>\n",
       "      <td>181</td>\n",
       "    </tr>\n",
       "    <tr>\n",
       "      <th>1</th>\n",
       "      <td>Ростелеком</td>\n",
       "      <td>152</td>\n",
       "    </tr>\n",
       "    <tr>\n",
       "      <th>2</th>\n",
       "      <td>Спецремонт</td>\n",
       "      <td>116</td>\n",
       "    </tr>\n",
       "    <tr>\n",
       "      <th>3</th>\n",
       "      <td>Поляков Денис Иванович</td>\n",
       "      <td>88</td>\n",
       "    </tr>\n",
       "    <tr>\n",
       "      <th>4</th>\n",
       "      <td>ООО ЕФИН</td>\n",
       "      <td>71</td>\n",
       "    </tr>\n",
       "    <tr>\n",
       "      <th>...</th>\n",
       "      <td>...</td>\n",
       "      <td>...</td>\n",
       "    </tr>\n",
       "    <tr>\n",
       "      <th>23170</th>\n",
       "      <td>СДЕЛКА</td>\n",
       "      <td>0</td>\n",
       "    </tr>\n",
       "    <tr>\n",
       "      <th>23171</th>\n",
       "      <td>Alandr Group</td>\n",
       "      <td>0</td>\n",
       "    </tr>\n",
       "    <tr>\n",
       "      <th>23172</th>\n",
       "      <td>СДК</td>\n",
       "      <td>0</td>\n",
       "    </tr>\n",
       "    <tr>\n",
       "      <th>23173</th>\n",
       "      <td>Lemon Land Lombard</td>\n",
       "      <td>0</td>\n",
       "    </tr>\n",
       "    <tr>\n",
       "      <th>23174</th>\n",
       "      <td>Махина</td>\n",
       "      <td>0</td>\n",
       "    </tr>\n",
       "  </tbody>\n",
       "</table>\n",
       "<p>23175 rows × 2 columns</p>\n",
       "</div>"
      ],
      "text/plain": [
       "                         name  cnt_areas\n",
       "0                      Яндекс        181\n",
       "1                  Ростелеком        152\n",
       "2                  Спецремонт        116\n",
       "3      Поляков Денис Иванович         88\n",
       "4                   ООО ЕФИН          71\n",
       "...                       ...        ...\n",
       "23170                  СДЕЛКА          0\n",
       "23171            Alandr Group          0\n",
       "23172                     СДК          0\n",
       "23173      Lemon Land Lombard          0\n",
       "23174                  Махина          0\n",
       "\n",
       "[23175 rows x 2 columns]"
      ]
     },
     "execution_count": 29,
     "metadata": {},
     "output_type": "execute_result"
    }
   ],
   "source": [
    "# результат запроса\n",
    "count_em_area = pd.read_sql_query(query_em_area, connection)\n",
    "count_em_area"
   ]
  },
  {
   "cell_type": "markdown",
   "metadata": {
    "id": "eab2206d-d95b-468b-8e5f-34381abf0ce7"
   },
   "source": [
    "4. Напишите запрос для подсчёта количества работодателей, у которых не указана сфера деятельности. "
   ]
  },
  {
   "cell_type": "code",
   "execution_count": 30,
   "metadata": {
    "id": "80defb23-bfb1-4a18-8be6-bf36aa7165d5"
   },
   "outputs": [],
   "source": [
    "# текст запроса\n",
    "query_em_ind_null = f'''select count(e.id) cnt\n",
    "            from  EMPLOYERS e\n",
    "            left outer join EMPLOYERS_INDUSTRIES ei\n",
    "            on e.id=ei.employer_id\n",
    "            where ei.employer_id is null\n",
    "           \n",
    "'''"
   ]
  },
  {
   "cell_type": "code",
   "execution_count": 31,
   "metadata": {
    "id": "Dp_yCx6ysQSu"
   },
   "outputs": [
    {
     "data": {
      "text/html": [
       "<div>\n",
       "<style scoped>\n",
       "    .dataframe tbody tr th:only-of-type {\n",
       "        vertical-align: middle;\n",
       "    }\n",
       "\n",
       "    .dataframe tbody tr th {\n",
       "        vertical-align: top;\n",
       "    }\n",
       "\n",
       "    .dataframe thead th {\n",
       "        text-align: right;\n",
       "    }\n",
       "</style>\n",
       "<table border=\"1\" class=\"dataframe\">\n",
       "  <thead>\n",
       "    <tr style=\"text-align: right;\">\n",
       "      <th></th>\n",
       "      <th>cnt</th>\n",
       "    </tr>\n",
       "  </thead>\n",
       "  <tbody>\n",
       "    <tr>\n",
       "      <th>0</th>\n",
       "      <td>8419</td>\n",
       "    </tr>\n",
       "  </tbody>\n",
       "</table>\n",
       "</div>"
      ],
      "text/plain": [
       "    cnt\n",
       "0  8419"
      ]
     },
     "execution_count": 31,
     "metadata": {},
     "output_type": "execute_result"
    }
   ],
   "source": [
    "# результат запроса\n",
    "count_em_ind_null = pd.read_sql_query(query_em_ind_null, connection)\n",
    "count_em_ind_null"
   ]
  },
  {
   "cell_type": "markdown",
   "metadata": {
    "id": "0112af31-f6b0-4e3b-82ab-71296e752e5e"
   },
   "source": [
    "5. Напишите запрос, чтобы узнать название компании, находящейся на третьем месте в алфавитном списке (по названию) компаний, у которых указано четыре сферы деятельности. "
   ]
  },
  {
   "cell_type": "code",
   "execution_count": 32,
   "metadata": {
    "id": "973b0cfc-a972-470a-8b4a-68744ef220c4"
   },
   "outputs": [],
   "source": [
    "# текст запроса\n",
    "query_em_in = f'''select * from(select e.name, count(ei.industry_id) cnt\n",
    "            from  EMPLOYERS e\n",
    "            inner join EMPLOYERS_INDUSTRIES ei\n",
    "            on e.id=ei.employer_id            \n",
    "           group by e.name\n",
    "           order by e.name asc) as foo where cnt=4\n",
    "           \n",
    "'''"
   ]
  },
  {
   "cell_type": "code",
   "execution_count": 33,
   "metadata": {
    "id": "xsPtpp8EsaED"
   },
   "outputs": [
    {
     "data": {
      "text/html": [
       "<div>\n",
       "<style scoped>\n",
       "    .dataframe tbody tr th:only-of-type {\n",
       "        vertical-align: middle;\n",
       "    }\n",
       "\n",
       "    .dataframe tbody tr th {\n",
       "        vertical-align: top;\n",
       "    }\n",
       "\n",
       "    .dataframe thead th {\n",
       "        text-align: right;\n",
       "    }\n",
       "</style>\n",
       "<table border=\"1\" class=\"dataframe\">\n",
       "  <thead>\n",
       "    <tr style=\"text-align: right;\">\n",
       "      <th></th>\n",
       "      <th>name</th>\n",
       "      <th>cnt</th>\n",
       "    </tr>\n",
       "  </thead>\n",
       "  <tbody>\n",
       "    <tr>\n",
       "      <th>0</th>\n",
       "      <td>101 Интернет</td>\n",
       "      <td>4</td>\n",
       "    </tr>\n",
       "    <tr>\n",
       "      <th>1</th>\n",
       "      <td>21vek.by</td>\n",
       "      <td>4</td>\n",
       "    </tr>\n",
       "    <tr>\n",
       "      <th>2</th>\n",
       "      <td>2ГИС</td>\n",
       "      <td>4</td>\n",
       "    </tr>\n",
       "    <tr>\n",
       "      <th>3</th>\n",
       "      <td>2К</td>\n",
       "      <td>4</td>\n",
       "    </tr>\n",
       "    <tr>\n",
       "      <th>4</th>\n",
       "      <td>4 пикселя +</td>\n",
       "      <td>4</td>\n",
       "    </tr>\n",
       "    <tr>\n",
       "      <th>...</th>\n",
       "      <td>...</td>\n",
       "      <td>...</td>\n",
       "    </tr>\n",
       "    <tr>\n",
       "      <th>1131</th>\n",
       "      <td>ЮРИОН</td>\n",
       "      <td>4</td>\n",
       "    </tr>\n",
       "    <tr>\n",
       "      <th>1132</th>\n",
       "      <td>ЮТИП Технологии</td>\n",
       "      <td>4</td>\n",
       "    </tr>\n",
       "    <tr>\n",
       "      <th>1133</th>\n",
       "      <td>ЯКласс</td>\n",
       "      <td>4</td>\n",
       "    </tr>\n",
       "    <tr>\n",
       "      <th>1134</th>\n",
       "      <td>ЯрНео</td>\n",
       "      <td>4</td>\n",
       "    </tr>\n",
       "    <tr>\n",
       "      <th>1135</th>\n",
       "      <td>Яшин&amp;Партнёры</td>\n",
       "      <td>4</td>\n",
       "    </tr>\n",
       "  </tbody>\n",
       "</table>\n",
       "<p>1136 rows × 2 columns</p>\n",
       "</div>"
      ],
      "text/plain": [
       "                 name  cnt\n",
       "0        101 Интернет    4\n",
       "1            21vek.by    4\n",
       "2                2ГИС    4\n",
       "3                  2К    4\n",
       "4         4 пикселя +    4\n",
       "...               ...  ...\n",
       "1131            ЮРИОН    4\n",
       "1132  ЮТИП Технологии    4\n",
       "1133           ЯКласс    4\n",
       "1134            ЯрНео    4\n",
       "1135    Яшин&Партнёры    4\n",
       "\n",
       "[1136 rows x 2 columns]"
      ]
     },
     "execution_count": 33,
     "metadata": {},
     "output_type": "execute_result"
    }
   ],
   "source": [
    "# результат запроса\n",
    "count_em_in = pd.read_sql_query(query_em_in, connection)\n",
    "count_em_in"
   ]
  },
  {
   "cell_type": "markdown",
   "metadata": {
    "id": "3bfcfdaf-755d-4d2b-8ed8-326201dc07ab"
   },
   "source": [
    "6. С помощью запроса выясните, у какого количества работодателей в качестве сферы деятельности указана Разработка программного обеспечения.\n"
   ]
  },
  {
   "cell_type": "code",
   "execution_count": 34,
   "metadata": {
    "id": "ad3f270f-2991-47eb-929b-e8f88a55b0d1"
   },
   "outputs": [],
   "source": [
    "# текст запроса\n",
    "query_em_dev = f'''select * from (select i.name n, count(ei.employer_id) cnt_env\n",
    "            from  EMPLOYERS_INDUSTRIES ei\n",
    "            join INDUSTRIES i\n",
    "            on ei.industry_id = i.id       \n",
    "           group by i.name, ei.industry_id) as foo where n='Разработка программного обеспечения'\n",
    "           \n",
    "'''"
   ]
  },
  {
   "cell_type": "code",
   "execution_count": 35,
   "metadata": {
    "id": "H72qxWM0shPR"
   },
   "outputs": [
    {
     "data": {
      "text/html": [
       "<div>\n",
       "<style scoped>\n",
       "    .dataframe tbody tr th:only-of-type {\n",
       "        vertical-align: middle;\n",
       "    }\n",
       "\n",
       "    .dataframe tbody tr th {\n",
       "        vertical-align: top;\n",
       "    }\n",
       "\n",
       "    .dataframe thead th {\n",
       "        text-align: right;\n",
       "    }\n",
       "</style>\n",
       "<table border=\"1\" class=\"dataframe\">\n",
       "  <thead>\n",
       "    <tr style=\"text-align: right;\">\n",
       "      <th></th>\n",
       "      <th>n</th>\n",
       "      <th>cnt_env</th>\n",
       "    </tr>\n",
       "  </thead>\n",
       "  <tbody>\n",
       "    <tr>\n",
       "      <th>0</th>\n",
       "      <td>Разработка программного обеспечения</td>\n",
       "      <td>3553</td>\n",
       "    </tr>\n",
       "  </tbody>\n",
       "</table>\n",
       "</div>"
      ],
      "text/plain": [
       "                                     n  cnt_env\n",
       "0  Разработка программного обеспечения     3553"
      ]
     },
     "execution_count": 35,
     "metadata": {},
     "output_type": "execute_result"
    }
   ],
   "source": [
    "# результат запроса\n",
    "count_em_dev = pd.read_sql_query(query_em_dev, connection)\n",
    "count_em_dev"
   ]
  },
  {
   "cell_type": "markdown",
   "metadata": {
    "id": "7b02bb86-0546-40fb-94a4-242f050a5c57"
   },
   "source": [
    "7. Для компании «Яндекс» выведите список регионов-миллионников, в которых представлены вакансии компании, вместе с количеством вакансий в этих регионах. Также добавьте строку Total с общим количеством вакансий компании. Результат отсортируйте по возрастанию количества.\n",
    "\n",
    "Список городов-милионников надо взять [отсюда](https://ru.wikipedia.org/wiki/%D0%93%D0%BE%D1%80%D0%BE%D0%B4%D0%B0-%D0%BC%D0%B8%D0%BB%D0%BB%D0%B8%D0%BE%D0%BD%D0%B5%D1%80%D1%8B_%D0%A0%D0%BE%D1%81%D1%81%D0%B8%D0%B8). \n",
    "\n",
    "Если возникнут трудности с этим задание посмотрите материалы модуля  PYTHON-17. Как получать данные из веб-источников и API. "
   ]
  },
  {
   "cell_type": "code",
   "execution_count": 36,
   "metadata": {
    "id": "ZdfrL6gIs1Pn"
   },
   "outputs": [
    {
     "name": "stdout",
     "output_type": "stream",
     "text": [
      "['Москва', 'Санкт-Петербург', 'Новосибирск', 'Екатеринбург', 'Казань', 'Нижний Новгород', 'Красноярск', 'Челябинск', 'Самара', 'Уфа', 'Ростов-на-Дону', 'Омск', 'Краснодар', 'Воронеж', 'Пермь', 'Волгоград']\n"
     ]
    }
   ],
   "source": [
    "# код для получения списка городов-милионников\n",
    "import urllib.parse as req\n",
    "import requests\n",
    "from bs4 import BeautifulSoup\n",
    "\n",
    "path_common = req.urlparse('https://ru.wikipedia.org/wiki/Города-миллионеры_России#Список_городов-миллионеров')\n",
    "url = path_common.scheme + '://' + req.quote(path_common.netloc) +  req.quote(path_common.path) + '#'+ req.quote(path_common.fragment)\n",
    "\n",
    "url\n",
    "response = requests.get(url).text\n",
    "page = BeautifulSoup(response, 'html.parser')\n",
    "\n",
    "links=(page.find_all('table')[1].find_all('a'))\n",
    "links_new=links[4:]\n",
    "cities=[]\n",
    "index=0\n",
    "for link in links_new:\n",
    "    if ']' not in link.text:\n",
    "        cities.append(link.text)        \n",
    "        index=index+1\n",
    "\n",
    "\n",
    "print(cities)\n",
    "l = tuple(cities)\n"
   ]
  },
  {
   "cell_type": "code",
   "execution_count": 37,
   "metadata": {
    "id": "5a0e32a4-e68a-4365-8a39-2fe24c542c36"
   },
   "outputs": [],
   "source": [
    "# текст запроса\n",
    "query_cities = f'''SELECT a.name, count(v.id) cnt\n",
    "    FROM VACANCIES v\n",
    "    JOIN employers e ON v.employer_id = e.id\n",
    "    JOIN AREAS a ON v.area_id = a.id\n",
    "    WHERE e.name ILIKE 'яндекс' and a.name in {l}\n",
    "    group by a.name  \n",
    "    UNION ALL\n",
    "    SELECT 'Total' total, count(v.id)\n",
    "    FROM VACANCIES v\n",
    "    JOIN employers e ON v.employer_id = e.id\n",
    "    JOIN AREAS a ON v.area_id = a.id\n",
    "    WHERE e.name ILIKE 'яндекс' and a.name in {l}\n",
    "    order by 2 asc\n",
    "               \n",
    "'''\n"
   ]
  },
  {
   "cell_type": "code",
   "execution_count": 38,
   "metadata": {
    "id": "ttPhiO1rsvPq"
   },
   "outputs": [
    {
     "data": {
      "text/html": [
       "<div>\n",
       "<style scoped>\n",
       "    .dataframe tbody tr th:only-of-type {\n",
       "        vertical-align: middle;\n",
       "    }\n",
       "\n",
       "    .dataframe tbody tr th {\n",
       "        vertical-align: top;\n",
       "    }\n",
       "\n",
       "    .dataframe thead th {\n",
       "        text-align: right;\n",
       "    }\n",
       "</style>\n",
       "<table border=\"1\" class=\"dataframe\">\n",
       "  <thead>\n",
       "    <tr style=\"text-align: right;\">\n",
       "      <th></th>\n",
       "      <th>name</th>\n",
       "      <th>cnt</th>\n",
       "    </tr>\n",
       "  </thead>\n",
       "  <tbody>\n",
       "    <tr>\n",
       "      <th>0</th>\n",
       "      <td>Омск</td>\n",
       "      <td>21</td>\n",
       "    </tr>\n",
       "    <tr>\n",
       "      <th>1</th>\n",
       "      <td>Челябинск</td>\n",
       "      <td>22</td>\n",
       "    </tr>\n",
       "    <tr>\n",
       "      <th>2</th>\n",
       "      <td>Красноярск</td>\n",
       "      <td>23</td>\n",
       "    </tr>\n",
       "    <tr>\n",
       "      <th>3</th>\n",
       "      <td>Волгоград</td>\n",
       "      <td>24</td>\n",
       "    </tr>\n",
       "    <tr>\n",
       "      <th>4</th>\n",
       "      <td>Пермь</td>\n",
       "      <td>25</td>\n",
       "    </tr>\n",
       "    <tr>\n",
       "      <th>5</th>\n",
       "      <td>Казань</td>\n",
       "      <td>25</td>\n",
       "    </tr>\n",
       "    <tr>\n",
       "      <th>6</th>\n",
       "      <td>Ростов-на-Дону</td>\n",
       "      <td>25</td>\n",
       "    </tr>\n",
       "    <tr>\n",
       "      <th>7</th>\n",
       "      <td>Уфа</td>\n",
       "      <td>26</td>\n",
       "    </tr>\n",
       "    <tr>\n",
       "      <th>8</th>\n",
       "      <td>Самара</td>\n",
       "      <td>26</td>\n",
       "    </tr>\n",
       "    <tr>\n",
       "      <th>9</th>\n",
       "      <td>Краснодар</td>\n",
       "      <td>30</td>\n",
       "    </tr>\n",
       "    <tr>\n",
       "      <th>10</th>\n",
       "      <td>Воронеж</td>\n",
       "      <td>32</td>\n",
       "    </tr>\n",
       "    <tr>\n",
       "      <th>11</th>\n",
       "      <td>Новосибирск</td>\n",
       "      <td>35</td>\n",
       "    </tr>\n",
       "    <tr>\n",
       "      <th>12</th>\n",
       "      <td>Нижний Новгород</td>\n",
       "      <td>36</td>\n",
       "    </tr>\n",
       "    <tr>\n",
       "      <th>13</th>\n",
       "      <td>Екатеринбург</td>\n",
       "      <td>39</td>\n",
       "    </tr>\n",
       "    <tr>\n",
       "      <th>14</th>\n",
       "      <td>Санкт-Петербург</td>\n",
       "      <td>42</td>\n",
       "    </tr>\n",
       "    <tr>\n",
       "      <th>15</th>\n",
       "      <td>Москва</td>\n",
       "      <td>54</td>\n",
       "    </tr>\n",
       "    <tr>\n",
       "      <th>16</th>\n",
       "      <td>Total</td>\n",
       "      <td>485</td>\n",
       "    </tr>\n",
       "  </tbody>\n",
       "</table>\n",
       "</div>"
      ],
      "text/plain": [
       "               name  cnt\n",
       "0              Омск   21\n",
       "1         Челябинск   22\n",
       "2        Красноярск   23\n",
       "3         Волгоград   24\n",
       "4             Пермь   25\n",
       "5            Казань   25\n",
       "6    Ростов-на-Дону   25\n",
       "7               Уфа   26\n",
       "8            Самара   26\n",
       "9         Краснодар   30\n",
       "10          Воронеж   32\n",
       "11      Новосибирск   35\n",
       "12  Нижний Новгород   36\n",
       "13     Екатеринбург   39\n",
       "14  Санкт-Петербург   42\n",
       "15           Москва   54\n",
       "16            Total  485"
      ]
     },
     "execution_count": 38,
     "metadata": {},
     "output_type": "execute_result"
    }
   ],
   "source": [
    "# результат запроса\n",
    "\n",
    "count_cities = pd.read_sql_query(query_cities, connection)\n",
    "count_cities"
   ]
  },
  {
   "cell_type": "markdown",
   "metadata": {
    "id": "04966e40-3bc3-4dc8-9ba2-e80580ce3abc"
   },
   "source": [
    "***"
   ]
  },
  {
   "cell_type": "markdown",
   "metadata": {
    "id": "aGGyER-yt4SR"
   },
   "source": [
    "#### выводы по анализу работодателей\n",
    "Самое большое количество вакансий от компании Яндекс, так же эта компанию лидирует по охвату регионов. \n",
    "У 8419 работодателей не указана сфера деятельности."
   ]
  },
  {
   "cell_type": "markdown",
   "metadata": {
    "id": "b1ef156a-efcb-49ce-bb23-90763e7f35b2",
    "tags": []
   },
   "source": [
    "# Юнит 6. Предметный анализ"
   ]
  },
  {
   "cell_type": "markdown",
   "metadata": {
    "id": "b9cd50a0-992d-4988-8463-2b2b1c4629b4"
   },
   "source": [
    "1. Сколько вакансий имеет отношение к данным?\n",
    "\n",
    "Считаем, что вакансия имеет отношение к данным, если в её названии содержатся слова 'data' или 'данн'.\n",
    "\n",
    "*Подсказка: Обратите внимание, что названия вакансий могут быть написаны в любом регистре.* \n"
   ]
  },
  {
   "cell_type": "code",
   "execution_count": 40,
   "metadata": {
    "id": "54ab0e50-c0f1-47cc-a54b-bc5c8bc363f9"
   },
   "outputs": [],
   "source": [
    "# текст запроса\n",
    "query_data = f'''select count(*) from VACANCIES where lower(name) like '%data%' or name like '%Data%' or name like '%данн%'or name like '%Данн%'\n",
    "           \n",
    "'''"
   ]
  },
  {
   "cell_type": "code",
   "execution_count": 41,
   "metadata": {
    "id": "9F1meAqsuUjd"
   },
   "outputs": [
    {
     "data": {
      "text/html": [
       "<div>\n",
       "<style scoped>\n",
       "    .dataframe tbody tr th:only-of-type {\n",
       "        vertical-align: middle;\n",
       "    }\n",
       "\n",
       "    .dataframe tbody tr th {\n",
       "        vertical-align: top;\n",
       "    }\n",
       "\n",
       "    .dataframe thead th {\n",
       "        text-align: right;\n",
       "    }\n",
       "</style>\n",
       "<table border=\"1\" class=\"dataframe\">\n",
       "  <thead>\n",
       "    <tr style=\"text-align: right;\">\n",
       "      <th></th>\n",
       "      <th>count</th>\n",
       "    </tr>\n",
       "  </thead>\n",
       "  <tbody>\n",
       "    <tr>\n",
       "      <th>0</th>\n",
       "      <td>1771</td>\n",
       "    </tr>\n",
       "  </tbody>\n",
       "</table>\n",
       "</div>"
      ],
      "text/plain": [
       "   count\n",
       "0   1771"
      ]
     },
     "execution_count": 41,
     "metadata": {},
     "output_type": "execute_result"
    }
   ],
   "source": [
    "# результат запроса\n",
    "count_data = pd.read_sql_query(query_data, connection)\n",
    "count_data"
   ]
  },
  {
   "cell_type": "markdown",
   "metadata": {
    "id": "4dea20cb-a36b-474a-a0b9-e08e8e3857a5"
   },
   "source": [
    "2. Сколько есть подходящих вакансий для начинающего дата-сайентиста? \n",
    "Будем считать вакансиями для дата-сайентистов такие, в названии которых есть хотя бы одно из следующих сочетаний:\n",
    "* 'data scientist'\n",
    "* 'data science'\n",
    "* 'исследователь данных'\n",
    "* 'ML' (здесь не нужно брать вакансии по HTML)\n",
    "* 'machine learning'\n",
    "* 'машинн%обучен%'\n",
    "\n",
    "** В следующих заданиях мы продолжим работать с вакансиями по этому условию.*\n",
    "\n",
    "Считаем вакансиями для специалистов уровня Junior следующие:\n",
    "* в названии есть слово 'junior' *или*\n",
    "* требуемый опыт — Нет опыта *или*\n",
    "* тип трудоустройства — Стажировка.\n",
    " "
   ]
  },
  {
   "cell_type": "code",
   "execution_count": 42,
   "metadata": {
    "id": "9c61b3c0-bb66-46c9-ae1e-81d3f5752b4a"
   },
   "outputs": [],
   "source": [
    "query_data = f'''     \n",
    "    select\n",
    "       count( v.name)\n",
    "    from vacancies v\n",
    "    where\n",
    "        (v.name ~* 'data scien(ce|tist)|исследователь данных|ML|machine learning|машинн.*обучен.*' and v.name !~* 'HTML')\n",
    "        and (v.name ~* 'junior' or v.experience = 'Нет опыта' or v.employment = 'Стажировка')\n",
    "'''\n"
   ]
  },
  {
   "cell_type": "code",
   "execution_count": 43,
   "metadata": {
    "id": "ZNM-LLYuu1dj"
   },
   "outputs": [
    {
     "data": {
      "text/html": [
       "<div>\n",
       "<style scoped>\n",
       "    .dataframe tbody tr th:only-of-type {\n",
       "        vertical-align: middle;\n",
       "    }\n",
       "\n",
       "    .dataframe tbody tr th {\n",
       "        vertical-align: top;\n",
       "    }\n",
       "\n",
       "    .dataframe thead th {\n",
       "        text-align: right;\n",
       "    }\n",
       "</style>\n",
       "<table border=\"1\" class=\"dataframe\">\n",
       "  <thead>\n",
       "    <tr style=\"text-align: right;\">\n",
       "      <th></th>\n",
       "      <th>count</th>\n",
       "    </tr>\n",
       "  </thead>\n",
       "  <tbody>\n",
       "    <tr>\n",
       "      <th>0</th>\n",
       "      <td>51</td>\n",
       "    </tr>\n",
       "  </tbody>\n",
       "</table>\n",
       "</div>"
      ],
      "text/plain": [
       "   count\n",
       "0     51"
      ]
     },
     "execution_count": 43,
     "metadata": {},
     "output_type": "execute_result"
    }
   ],
   "source": [
    "# результат запроса\n",
    "count_data = pd.read_sql_query(query_data, connection)\n",
    "count_data"
   ]
  },
  {
   "cell_type": "code",
   "execution_count": 44,
   "metadata": {},
   "outputs": [
    {
     "data": {
      "text/html": [
       "<div>\n",
       "<style scoped>\n",
       "    .dataframe tbody tr th:only-of-type {\n",
       "        vertical-align: middle;\n",
       "    }\n",
       "\n",
       "    .dataframe tbody tr th {\n",
       "        vertical-align: top;\n",
       "    }\n",
       "\n",
       "    .dataframe thead th {\n",
       "        text-align: right;\n",
       "    }\n",
       "</style>\n",
       "<table border=\"1\" class=\"dataframe\">\n",
       "  <thead>\n",
       "    <tr style=\"text-align: right;\">\n",
       "      <th></th>\n",
       "      <th>id</th>\n",
       "      <th>name</th>\n",
       "      <th>key_skills</th>\n",
       "      <th>schedule</th>\n",
       "      <th>experience</th>\n",
       "      <th>employment</th>\n",
       "      <th>salary_from</th>\n",
       "      <th>salary_to</th>\n",
       "      <th>area_id</th>\n",
       "      <th>employer_id</th>\n",
       "    </tr>\n",
       "  </thead>\n",
       "  <tbody>\n",
       "    <tr>\n",
       "      <th>0</th>\n",
       "      <td>50533416</td>\n",
       "      <td>Junior+ CV/ML developer</td>\n",
       "      <td>Python\\tSQL\\tРабота в команде\\tOpenCV\\tML</td>\n",
       "      <td>Гибкий график</td>\n",
       "      <td>От 1 года до 3 лет</td>\n",
       "      <td>Полная занятость</td>\n",
       "      <td>NaN</td>\n",
       "      <td>NaN</td>\n",
       "      <td>4</td>\n",
       "      <td>80190</td>\n",
       "    </tr>\n",
       "    <tr>\n",
       "      <th>1</th>\n",
       "      <td>54825318</td>\n",
       "      <td>Data Scientist (Junior+)</td>\n",
       "      <td>Python\\tOpenCV\\tTensorflow\\tComputer Vision\\tН...</td>\n",
       "      <td>Полный день</td>\n",
       "      <td>От 1 года до 3 лет</td>\n",
       "      <td>Полная занятость</td>\n",
       "      <td>50000.0</td>\n",
       "      <td>70000.0</td>\n",
       "      <td>72</td>\n",
       "      <td>215942</td>\n",
       "    </tr>\n",
       "    <tr>\n",
       "      <th>2</th>\n",
       "      <td>55553897</td>\n",
       "      <td>Junior Data Scientist (Стажер)</td>\n",
       "      <td>Python\\tSQL\\tData Mining\\tC++\\tМатематический ...</td>\n",
       "      <td>Гибкий график</td>\n",
       "      <td>Нет опыта</td>\n",
       "      <td>Стажировка</td>\n",
       "      <td>NaN</td>\n",
       "      <td>37000.0</td>\n",
       "      <td>3</td>\n",
       "      <td>953</td>\n",
       "    </tr>\n",
       "    <tr>\n",
       "      <th>3</th>\n",
       "      <td>55529384</td>\n",
       "      <td>Математик, Junior/Middle/Senior Data Scientist</td>\n",
       "      <td>Python\\tMATLAB\\tМатематическое моделирование\\t...</td>\n",
       "      <td>Удаленная работа</td>\n",
       "      <td>От 1 года до 3 лет</td>\n",
       "      <td>Частичная занятость</td>\n",
       "      <td>NaN</td>\n",
       "      <td>NaN</td>\n",
       "      <td>1002</td>\n",
       "      <td>1688252</td>\n",
       "    </tr>\n",
       "    <tr>\n",
       "      <th>4</th>\n",
       "      <td>55145641</td>\n",
       "      <td>Junior Data Scientist</td>\n",
       "      <td>Python\\tSQL\\tMachine Learning\\tData Science\\tА...</td>\n",
       "      <td>Полный день</td>\n",
       "      <td>Нет опыта</td>\n",
       "      <td>Полная занятость</td>\n",
       "      <td>50000.0</td>\n",
       "      <td>NaN</td>\n",
       "      <td>2</td>\n",
       "      <td>40938</td>\n",
       "    </tr>\n",
       "    <tr>\n",
       "      <th>5</th>\n",
       "      <td>55343709</td>\n",
       "      <td>Data Scientist/Machine Learning Engineer (Deve...</td>\n",
       "      <td>Machine Learning\\tDeep Learning\\tData Science\\...</td>\n",
       "      <td>Гибкий график</td>\n",
       "      <td>Нет опыта</td>\n",
       "      <td>Частичная занятость</td>\n",
       "      <td>NaN</td>\n",
       "      <td>NaN</td>\n",
       "      <td>2</td>\n",
       "      <td>675403</td>\n",
       "    </tr>\n",
       "    <tr>\n",
       "      <th>6</th>\n",
       "      <td>54475492</td>\n",
       "      <td>Data Scientist (Junior)</td>\n",
       "      <td>Python\\tMachine Learning\\tPandas\\tSQL\\tNumpy\\t...</td>\n",
       "      <td>Полный день</td>\n",
       "      <td>Нет опыта</td>\n",
       "      <td>Частичная занятость</td>\n",
       "      <td>45000.0</td>\n",
       "      <td>100000.0</td>\n",
       "      <td>1</td>\n",
       "      <td>665449</td>\n",
       "    </tr>\n",
       "    <tr>\n",
       "      <th>7</th>\n",
       "      <td>55119989</td>\n",
       "      <td>Intern/Junior Data Scientist</td>\n",
       "      <td>Linux\\tPython</td>\n",
       "      <td>Гибкий график</td>\n",
       "      <td>Нет опыта</td>\n",
       "      <td>Стажировка</td>\n",
       "      <td>NaN</td>\n",
       "      <td>NaN</td>\n",
       "      <td>2</td>\n",
       "      <td>3124</td>\n",
       "    </tr>\n",
       "    <tr>\n",
       "      <th>8</th>\n",
       "      <td>55120211</td>\n",
       "      <td>Junior Data Scientist (VK)</td>\n",
       "      <td>Python\\tМатематическая статистика\\tАнализ данных</td>\n",
       "      <td>Полный день</td>\n",
       "      <td>От 1 года до 3 лет</td>\n",
       "      <td>Полная занятость</td>\n",
       "      <td>NaN</td>\n",
       "      <td>NaN</td>\n",
       "      <td>1</td>\n",
       "      <td>15478</td>\n",
       "    </tr>\n",
       "    <tr>\n",
       "      <th>9</th>\n",
       "      <td>55120401</td>\n",
       "      <td>Junior/Middle Data Scientist</td>\n",
       "      <td>Linux\\tPython</td>\n",
       "      <td>Гибкий график</td>\n",
       "      <td>От 1 года до 3 лет</td>\n",
       "      <td>Полная занятость</td>\n",
       "      <td>NaN</td>\n",
       "      <td>NaN</td>\n",
       "      <td>2</td>\n",
       "      <td>3124</td>\n",
       "    </tr>\n",
       "    <tr>\n",
       "      <th>10</th>\n",
       "      <td>55390769</td>\n",
       "      <td>Data Scientist (Computer Vision) - Junior</td>\n",
       "      <td>Python\\tML\\tPytorch\\tComputer Vision</td>\n",
       "      <td>Полный день</td>\n",
       "      <td>Нет опыта</td>\n",
       "      <td>Полная занятость</td>\n",
       "      <td>NaN</td>\n",
       "      <td>NaN</td>\n",
       "      <td>1</td>\n",
       "      <td>1626408</td>\n",
       "    </tr>\n",
       "    <tr>\n",
       "      <th>11</th>\n",
       "      <td>52158791</td>\n",
       "      <td>Исследователь в области машинного обучения и м...</td>\n",
       "      <td>Python\\tMachine Learning\\tМатематическое модел...</td>\n",
       "      <td>Полный день</td>\n",
       "      <td>Нет опыта</td>\n",
       "      <td>Полная занятость</td>\n",
       "      <td>80000.0</td>\n",
       "      <td>150000.0</td>\n",
       "      <td>2</td>\n",
       "      <td>1795976</td>\n",
       "    </tr>\n",
       "    <tr>\n",
       "      <th>12</th>\n",
       "      <td>52396406</td>\n",
       "      <td>Data Scientist, Junior</td>\n",
       "      <td>Python\\tSQL\\tJava\\tМатематический анализ\\tМате...</td>\n",
       "      <td>Полный день</td>\n",
       "      <td>Нет опыта</td>\n",
       "      <td>Полная занятость</td>\n",
       "      <td>NaN</td>\n",
       "      <td>NaN</td>\n",
       "      <td>72</td>\n",
       "      <td>4914081</td>\n",
       "    </tr>\n",
       "    <tr>\n",
       "      <th>13</th>\n",
       "      <td>55373640</td>\n",
       "      <td>Junior Data Scientist Управления модельных рис...</td>\n",
       "      <td>Математическое моделирование\\tАнализ данных\\tС...</td>\n",
       "      <td>Полный день</td>\n",
       "      <td>От 1 года до 3 лет</td>\n",
       "      <td>Полная занятость</td>\n",
       "      <td>NaN</td>\n",
       "      <td>NaN</td>\n",
       "      <td>1</td>\n",
       "      <td>4181</td>\n",
       "    </tr>\n",
       "    <tr>\n",
       "      <th>14</th>\n",
       "      <td>55552998</td>\n",
       "      <td>Математик-аналитик (data scientist / data anal...</td>\n",
       "      <td>Python\\tМатематическая статистика\\tПрогнозиров...</td>\n",
       "      <td>Полный день</td>\n",
       "      <td>Нет опыта</td>\n",
       "      <td>Полная занятость</td>\n",
       "      <td>NaN</td>\n",
       "      <td>98000.0</td>\n",
       "      <td>2</td>\n",
       "      <td>2954482</td>\n",
       "    </tr>\n",
       "    <tr>\n",
       "      <th>15</th>\n",
       "      <td>54657714</td>\n",
       "      <td>Data Scientist (junior+/middle)</td>\n",
       "      <td>Python\\tМатематическая статистика\\tOracle Pl/S...</td>\n",
       "      <td>Гибкий график</td>\n",
       "      <td>От 1 года до 3 лет</td>\n",
       "      <td>Полная занятость</td>\n",
       "      <td>NaN</td>\n",
       "      <td>NaN</td>\n",
       "      <td>1</td>\n",
       "      <td>2242</td>\n",
       "    </tr>\n",
       "    <tr>\n",
       "      <th>16</th>\n",
       "      <td>55052496</td>\n",
       "      <td>Junior Data Scientist</td>\n",
       "      <td>Python\\tSQL\\tАнглийский язык\\tLinux\\tООП</td>\n",
       "      <td>Полный день</td>\n",
       "      <td>От 1 года до 3 лет</td>\n",
       "      <td>Полная занятость</td>\n",
       "      <td>50000.0</td>\n",
       "      <td>NaN</td>\n",
       "      <td>76</td>\n",
       "      <td>2029927</td>\n",
       "    </tr>\n",
       "    <tr>\n",
       "      <th>17</th>\n",
       "      <td>50072394</td>\n",
       "      <td>Research Engineer / Data Scientist</td>\n",
       "      <td>Python\\tPyTorch\\tGit\\tTensorflow\\tMachine Lear...</td>\n",
       "      <td>Полный день</td>\n",
       "      <td>Нет опыта</td>\n",
       "      <td>Полная занятость</td>\n",
       "      <td>NaN</td>\n",
       "      <td>NaN</td>\n",
       "      <td>1</td>\n",
       "      <td>976931</td>\n",
       "    </tr>\n",
       "    <tr>\n",
       "      <th>18</th>\n",
       "      <td>54924841</td>\n",
       "      <td>Стажер направления Машинное обучение и анализ ...</td>\n",
       "      <td>SQL\\tOracle Pl/SQL</td>\n",
       "      <td>Полный день</td>\n",
       "      <td>Нет опыта</td>\n",
       "      <td>Стажировка</td>\n",
       "      <td>NaN</td>\n",
       "      <td>NaN</td>\n",
       "      <td>1</td>\n",
       "      <td>3127</td>\n",
       "    </tr>\n",
       "    <tr>\n",
       "      <th>19</th>\n",
       "      <td>55156731</td>\n",
       "      <td>Стажёр Data Scientist / Группа сервисов Антифр...</td>\n",
       "      <td>Python\\tSQL\\tPostgreSQL\\tML\\tMachine Learning\\...</td>\n",
       "      <td>Полный день</td>\n",
       "      <td>Нет опыта</td>\n",
       "      <td>Стажировка</td>\n",
       "      <td>NaN</td>\n",
       "      <td>NaN</td>\n",
       "      <td>1</td>\n",
       "      <td>2180</td>\n",
       "    </tr>\n",
       "    <tr>\n",
       "      <th>20</th>\n",
       "      <td>54830582</td>\n",
       "      <td>Junior Data Scientist</td>\n",
       "      <td>Python\\tSQL\\tMachine Learning\\tDocker\\tNumpy</td>\n",
       "      <td>Полный день</td>\n",
       "      <td>От 1 года до 3 лет</td>\n",
       "      <td>Полная занятость</td>\n",
       "      <td>NaN</td>\n",
       "      <td>NaN</td>\n",
       "      <td>2</td>\n",
       "      <td>5488399</td>\n",
       "    </tr>\n",
       "    <tr>\n",
       "      <th>21</th>\n",
       "      <td>50996908</td>\n",
       "      <td>Senior Research Engineer / Data Scientist</td>\n",
       "      <td>PyTorch\\tMachine Learning\\tКонференции\\tPython...</td>\n",
       "      <td>Полный день</td>\n",
       "      <td>Нет опыта</td>\n",
       "      <td>Полная занятость</td>\n",
       "      <td>NaN</td>\n",
       "      <td>NaN</td>\n",
       "      <td>1</td>\n",
       "      <td>976931</td>\n",
       "    </tr>\n",
       "    <tr>\n",
       "      <th>22</th>\n",
       "      <td>55204943</td>\n",
       "      <td>Ведущий AI/ML инженер</td>\n",
       "      <td>Python\\tUnix\\tАналитическое мышление\\tНейронны...</td>\n",
       "      <td>Удаленная работа</td>\n",
       "      <td>Нет опыта</td>\n",
       "      <td>Полная занятость</td>\n",
       "      <td>NaN</td>\n",
       "      <td>NaN</td>\n",
       "      <td>26</td>\n",
       "      <td>2168135</td>\n",
       "    </tr>\n",
       "    <tr>\n",
       "      <th>23</th>\n",
       "      <td>55074464</td>\n",
       "      <td>Data scientist (Junior/Middle) в консалтинг</td>\n",
       "      <td>Python\\tML</td>\n",
       "      <td>Полный день</td>\n",
       "      <td>Нет опыта</td>\n",
       "      <td>Полная занятость</td>\n",
       "      <td>NaN</td>\n",
       "      <td>NaN</td>\n",
       "      <td>1</td>\n",
       "      <td>2724615</td>\n",
       "    </tr>\n",
       "    <tr>\n",
       "      <th>24</th>\n",
       "      <td>66142163</td>\n",
       "      <td>Junior Data Scientist (математик-аналитик) уда...</td>\n",
       "      <td>SQL\\tMS SQL\\tУдаленная работа\\tPython\\tМатемат...</td>\n",
       "      <td>Удаленная работа</td>\n",
       "      <td>От 1 года до 3 лет</td>\n",
       "      <td>Полная занятость</td>\n",
       "      <td>NaN</td>\n",
       "      <td>NaN</td>\n",
       "      <td>1</td>\n",
       "      <td>870069</td>\n",
       "    </tr>\n",
       "    <tr>\n",
       "      <th>25</th>\n",
       "      <td>55895592</td>\n",
       "      <td>Junior Data Scientist (Promo Forecast)</td>\n",
       "      <td>Python\\tSQL\\tORACLE\\tСтатистический анализ\\tSp...</td>\n",
       "      <td>Удаленная работа</td>\n",
       "      <td>От 1 года до 3 лет</td>\n",
       "      <td>Полная занятость</td>\n",
       "      <td>NaN</td>\n",
       "      <td>NaN</td>\n",
       "      <td>1</td>\n",
       "      <td>49357</td>\n",
       "    </tr>\n",
       "    <tr>\n",
       "      <th>26</th>\n",
       "      <td>55343711</td>\n",
       "      <td>Data Scientist/Machine Learning Engineer (Deve...</td>\n",
       "      <td>Machine Learning\\tDeep Learning\\tData Science\\...</td>\n",
       "      <td>Гибкий график</td>\n",
       "      <td>Нет опыта</td>\n",
       "      <td>Частичная занятость</td>\n",
       "      <td>NaN</td>\n",
       "      <td>NaN</td>\n",
       "      <td>90</td>\n",
       "      <td>675403</td>\n",
       "    </tr>\n",
       "    <tr>\n",
       "      <th>27</th>\n",
       "      <td>55064629</td>\n",
       "      <td>Data Scientist в Сбер</td>\n",
       "      <td>None</td>\n",
       "      <td>Полный день</td>\n",
       "      <td>Нет опыта</td>\n",
       "      <td>Полная занятость</td>\n",
       "      <td>NaN</td>\n",
       "      <td>NaN</td>\n",
       "      <td>1</td>\n",
       "      <td>3529</td>\n",
       "    </tr>\n",
       "    <tr>\n",
       "      <th>28</th>\n",
       "      <td>55343710</td>\n",
       "      <td>Data Scientist/Machine Learning Engineer (Deve...</td>\n",
       "      <td>Machine Learning\\tDeep Learning\\tData Science\\...</td>\n",
       "      <td>Гибкий график</td>\n",
       "      <td>Нет опыта</td>\n",
       "      <td>Частичная занятость</td>\n",
       "      <td>NaN</td>\n",
       "      <td>NaN</td>\n",
       "      <td>4</td>\n",
       "      <td>675403</td>\n",
       "    </tr>\n",
       "    <tr>\n",
       "      <th>29</th>\n",
       "      <td>55127391</td>\n",
       "      <td>Junior Data Scientist (Валидация скоринговых м...</td>\n",
       "      <td>Оценка рисков\\tMS PowerPoint\\tСтатистический а...</td>\n",
       "      <td>Полный день</td>\n",
       "      <td>От 1 года до 3 лет</td>\n",
       "      <td>Полная занятость</td>\n",
       "      <td>NaN</td>\n",
       "      <td>NaN</td>\n",
       "      <td>66</td>\n",
       "      <td>4181</td>\n",
       "    </tr>\n",
       "    <tr>\n",
       "      <th>30</th>\n",
       "      <td>55127390</td>\n",
       "      <td>Junior Data Scientist (Валидация скоринговых м...</td>\n",
       "      <td>Оценка рисков\\tMS PowerPoint\\tСтатистический а...</td>\n",
       "      <td>Полный день</td>\n",
       "      <td>От 1 года до 3 лет</td>\n",
       "      <td>Полная занятость</td>\n",
       "      <td>NaN</td>\n",
       "      <td>NaN</td>\n",
       "      <td>1</td>\n",
       "      <td>4181</td>\n",
       "    </tr>\n",
       "    <tr>\n",
       "      <th>31</th>\n",
       "      <td>55127393</td>\n",
       "      <td>Junior Data Scientist (Валидация скоринговых м...</td>\n",
       "      <td>Оценка рисков\\tMS PowerPoint\\tСтатистический а...</td>\n",
       "      <td>Полный день</td>\n",
       "      <td>От 1 года до 3 лет</td>\n",
       "      <td>Полная занятость</td>\n",
       "      <td>NaN</td>\n",
       "      <td>NaN</td>\n",
       "      <td>2</td>\n",
       "      <td>4181</td>\n",
       "    </tr>\n",
       "    <tr>\n",
       "      <th>32</th>\n",
       "      <td>55127395</td>\n",
       "      <td>Junior Data Scientist (Валидация скоринговых м...</td>\n",
       "      <td>Оценка рисков\\tMS PowerPoint\\tСтатистический а...</td>\n",
       "      <td>Полный день</td>\n",
       "      <td>От 1 года до 3 лет</td>\n",
       "      <td>Полная занятость</td>\n",
       "      <td>NaN</td>\n",
       "      <td>NaN</td>\n",
       "      <td>90</td>\n",
       "      <td>4181</td>\n",
       "    </tr>\n",
       "    <tr>\n",
       "      <th>33</th>\n",
       "      <td>55127396</td>\n",
       "      <td>Junior Data Scientist (Валидация скоринговых м...</td>\n",
       "      <td>Оценка рисков\\tMS PowerPoint\\tСтатистический а...</td>\n",
       "      <td>Полный день</td>\n",
       "      <td>От 1 года до 3 лет</td>\n",
       "      <td>Полная занятость</td>\n",
       "      <td>NaN</td>\n",
       "      <td>NaN</td>\n",
       "      <td>26</td>\n",
       "      <td>4181</td>\n",
       "    </tr>\n",
       "    <tr>\n",
       "      <th>34</th>\n",
       "      <td>55127394</td>\n",
       "      <td>Junior Data Scientist (Валидация скоринговых м...</td>\n",
       "      <td>Оценка рисков\\tMS PowerPoint\\tСтатистический а...</td>\n",
       "      <td>Полный день</td>\n",
       "      <td>От 1 года до 3 лет</td>\n",
       "      <td>Полная занятость</td>\n",
       "      <td>NaN</td>\n",
       "      <td>NaN</td>\n",
       "      <td>76</td>\n",
       "      <td>4181</td>\n",
       "    </tr>\n",
       "    <tr>\n",
       "      <th>35</th>\n",
       "      <td>55127397</td>\n",
       "      <td>Junior Data Scientist (Валидация скоринговых м...</td>\n",
       "      <td>Оценка рисков\\tMS PowerPoint\\tСтатистический а...</td>\n",
       "      <td>Полный день</td>\n",
       "      <td>От 1 года до 3 лет</td>\n",
       "      <td>Полная занятость</td>\n",
       "      <td>NaN</td>\n",
       "      <td>NaN</td>\n",
       "      <td>95</td>\n",
       "      <td>4181</td>\n",
       "    </tr>\n",
       "    <tr>\n",
       "      <th>36</th>\n",
       "      <td>55127398</td>\n",
       "      <td>Junior Data Scientist (Валидация скоринговых м...</td>\n",
       "      <td>Оценка рисков\\tMS PowerPoint\\tСтатистический а...</td>\n",
       "      <td>Полный день</td>\n",
       "      <td>От 1 года до 3 лет</td>\n",
       "      <td>Полная занятость</td>\n",
       "      <td>NaN</td>\n",
       "      <td>NaN</td>\n",
       "      <td>4</td>\n",
       "      <td>4181</td>\n",
       "    </tr>\n",
       "    <tr>\n",
       "      <th>37</th>\n",
       "      <td>55127392</td>\n",
       "      <td>Junior Data Scientist (Валидация скоринговых м...</td>\n",
       "      <td>Оценка рисков\\tMS PowerPoint\\tСтатистический а...</td>\n",
       "      <td>Полный день</td>\n",
       "      <td>От 1 года до 3 лет</td>\n",
       "      <td>Полная занятость</td>\n",
       "      <td>NaN</td>\n",
       "      <td>NaN</td>\n",
       "      <td>88</td>\n",
       "      <td>4181</td>\n",
       "    </tr>\n",
       "    <tr>\n",
       "      <th>38</th>\n",
       "      <td>55095363</td>\n",
       "      <td>Риск - Аналитик (Junior Data scientist)</td>\n",
       "      <td>Python\\tSQL\\tАнглийский язык\\tОбучение и разви...</td>\n",
       "      <td>Полный день</td>\n",
       "      <td>От 1 года до 3 лет</td>\n",
       "      <td>Полная занятость</td>\n",
       "      <td>NaN</td>\n",
       "      <td>NaN</td>\n",
       "      <td>1</td>\n",
       "      <td>4448058</td>\n",
       "    </tr>\n",
       "    <tr>\n",
       "      <th>39</th>\n",
       "      <td>54702840</td>\n",
       "      <td>Программист Python/ Data Scientist (junior / m...</td>\n",
       "      <td>Python\\tDjango Framework\\tSQL\\tXML\\tMS SQL</td>\n",
       "      <td>Полный день</td>\n",
       "      <td>Нет опыта</td>\n",
       "      <td>Полная занятость</td>\n",
       "      <td>60000.0</td>\n",
       "      <td>100000.0</td>\n",
       "      <td>4</td>\n",
       "      <td>4602050</td>\n",
       "    </tr>\n",
       "    <tr>\n",
       "      <th>40</th>\n",
       "      <td>55104548</td>\n",
       "      <td>Риск-аналитик (ML Engineer / Data Scientist)</td>\n",
       "      <td>None</td>\n",
       "      <td>Полный день</td>\n",
       "      <td>Нет опыта</td>\n",
       "      <td>Полная занятость</td>\n",
       "      <td>NaN</td>\n",
       "      <td>NaN</td>\n",
       "      <td>1002</td>\n",
       "      <td>534346</td>\n",
       "    </tr>\n",
       "    <tr>\n",
       "      <th>41</th>\n",
       "      <td>54522206</td>\n",
       "      <td>Data Scientist/ML engineer (Python/C++)</td>\n",
       "      <td>ML\\tлинейные модели\\tRandom Forest\\tGradient B...</td>\n",
       "      <td>Удаленная работа</td>\n",
       "      <td>Нет опыта</td>\n",
       "      <td>Полная занятость</td>\n",
       "      <td>NaN</td>\n",
       "      <td>NaN</td>\n",
       "      <td>88</td>\n",
       "      <td>35784</td>\n",
       "    </tr>\n",
       "    <tr>\n",
       "      <th>42</th>\n",
       "      <td>54882705</td>\n",
       "      <td>Junior Data scientist/ Младший риск-аналитик</td>\n",
       "      <td>Математический анализ\\tБазы данных\\tСтатистика...</td>\n",
       "      <td>Полный день</td>\n",
       "      <td>От 1 года до 3 лет</td>\n",
       "      <td>Полная занятость</td>\n",
       "      <td>NaN</td>\n",
       "      <td>NaN</td>\n",
       "      <td>1</td>\n",
       "      <td>1039977</td>\n",
       "    </tr>\n",
       "    <tr>\n",
       "      <th>43</th>\n",
       "      <td>54948266</td>\n",
       "      <td>Senior Data Scientist (AI)</td>\n",
       "      <td>Computer Vision\\tPyTorch\\tTensorflow\\tDeep Lea...</td>\n",
       "      <td>Полный день</td>\n",
       "      <td>Нет опыта</td>\n",
       "      <td>Полная занятость</td>\n",
       "      <td>NaN</td>\n",
       "      <td>NaN</td>\n",
       "      <td>2</td>\n",
       "      <td>168307</td>\n",
       "    </tr>\n",
       "    <tr>\n",
       "      <th>44</th>\n",
       "      <td>55046966</td>\n",
       "      <td>Junior Data Scientist for NLP (Python)</td>\n",
       "      <td>Английский язык\\tCJM\\tПодготовка презентаций\\t...</td>\n",
       "      <td>Полный день</td>\n",
       "      <td>Нет опыта</td>\n",
       "      <td>Полная занятость</td>\n",
       "      <td>NaN</td>\n",
       "      <td>NaN</td>\n",
       "      <td>1</td>\n",
       "      <td>5979039</td>\n",
       "    </tr>\n",
       "    <tr>\n",
       "      <th>45</th>\n",
       "      <td>54949463</td>\n",
       "      <td>Junior Research Engineer / Data Scientist</td>\n",
       "      <td>Python\\tTensorflow\\tPyTorch\\tMachine Learning\\...</td>\n",
       "      <td>Полный день</td>\n",
       "      <td>От 1 года до 3 лет</td>\n",
       "      <td>Полная занятость</td>\n",
       "      <td>NaN</td>\n",
       "      <td>NaN</td>\n",
       "      <td>1</td>\n",
       "      <td>976931</td>\n",
       "    </tr>\n",
       "    <tr>\n",
       "      <th>46</th>\n",
       "      <td>54556346</td>\n",
       "      <td>Ведущий AI/ML инженер</td>\n",
       "      <td>Python\\tUnix\\tАналитическое мышление\\tНейронны...</td>\n",
       "      <td>Удаленная работа</td>\n",
       "      <td>Нет опыта</td>\n",
       "      <td>Полная занятость</td>\n",
       "      <td>NaN</td>\n",
       "      <td>NaN</td>\n",
       "      <td>3</td>\n",
       "      <td>2168135</td>\n",
       "    </tr>\n",
       "    <tr>\n",
       "      <th>47</th>\n",
       "      <td>54689300</td>\n",
       "      <td>Data Scientist</td>\n",
       "      <td>Python\\tGit\\tTensorFlow\\tKeras\\tJupiter\\tNLP\\t...</td>\n",
       "      <td>Полный день</td>\n",
       "      <td>Нет опыта</td>\n",
       "      <td>Полная занятость</td>\n",
       "      <td>NaN</td>\n",
       "      <td>NaN</td>\n",
       "      <td>4</td>\n",
       "      <td>2791</td>\n",
       "    </tr>\n",
       "    <tr>\n",
       "      <th>48</th>\n",
       "      <td>54945920</td>\n",
       "      <td>Python developer / Junior ML engineer</td>\n",
       "      <td>Python\\tC++\\tОптимизация кода\\tАнализ кода\\tМа...</td>\n",
       "      <td>Гибкий график</td>\n",
       "      <td>Нет опыта</td>\n",
       "      <td>Полная занятость</td>\n",
       "      <td>NaN</td>\n",
       "      <td>NaN</td>\n",
       "      <td>1</td>\n",
       "      <td>4108548</td>\n",
       "    </tr>\n",
       "    <tr>\n",
       "      <th>49</th>\n",
       "      <td>52396404</td>\n",
       "      <td>Data Scientist, Junior</td>\n",
       "      <td>Python\\tSQL\\tJava\\tМатематический анализ\\tМате...</td>\n",
       "      <td>Полный день</td>\n",
       "      <td>Нет опыта</td>\n",
       "      <td>Полная занятость</td>\n",
       "      <td>NaN</td>\n",
       "      <td>NaN</td>\n",
       "      <td>68</td>\n",
       "      <td>4914081</td>\n",
       "    </tr>\n",
       "    <tr>\n",
       "      <th>50</th>\n",
       "      <td>55236061</td>\n",
       "      <td>Data Scientist (Computer Vision) / Junior</td>\n",
       "      <td>Python\\tLinux\\tGit\\tSQL\\tDocker\\tBash\\tOpenCV\\...</td>\n",
       "      <td>Полный день</td>\n",
       "      <td>Нет опыта</td>\n",
       "      <td>Полная занятость</td>\n",
       "      <td>70000.0</td>\n",
       "      <td>NaN</td>\n",
       "      <td>22</td>\n",
       "      <td>5920492</td>\n",
       "    </tr>\n",
       "  </tbody>\n",
       "</table>\n",
       "</div>"
      ],
      "text/plain": [
       "          id                                               name  \\\n",
       "0   50533416                            Junior+ CV/ML developer   \n",
       "1   54825318                           Data Scientist (Junior+)   \n",
       "2   55553897                     Junior Data Scientist (Стажер)   \n",
       "3   55529384     Математик, Junior/Middle/Senior Data Scientist   \n",
       "4   55145641                              Junior Data Scientist   \n",
       "5   55343709  Data Scientist/Machine Learning Engineer (Deve...   \n",
       "6   54475492                            Data Scientist (Junior)   \n",
       "7   55119989                       Intern/Junior Data Scientist   \n",
       "8   55120211                         Junior Data Scientist (VK)   \n",
       "9   55120401                       Junior/Middle Data Scientist   \n",
       "10  55390769          Data Scientist (Computer Vision) - Junior   \n",
       "11  52158791  Исследователь в области машинного обучения и м...   \n",
       "12  52396406                             Data Scientist, Junior   \n",
       "13  55373640  Junior Data Scientist Управления модельных рис...   \n",
       "14  55552998  Математик-аналитик (data scientist / data anal...   \n",
       "15  54657714                    Data Scientist (junior+/middle)   \n",
       "16  55052496                              Junior Data Scientist   \n",
       "17  50072394                 Research Engineer / Data Scientist   \n",
       "18  54924841  Стажер направления Машинное обучение и анализ ...   \n",
       "19  55156731  Стажёр Data Scientist / Группа сервисов Антифр...   \n",
       "20  54830582                              Junior Data Scientist   \n",
       "21  50996908          Senior Research Engineer / Data Scientist   \n",
       "22  55204943                              Ведущий AI/ML инженер   \n",
       "23  55074464        Data scientist (Junior/Middle) в консалтинг   \n",
       "24  66142163  Junior Data Scientist (математик-аналитик) уда...   \n",
       "25  55895592             Junior Data Scientist (Promo Forecast)   \n",
       "26  55343711  Data Scientist/Machine Learning Engineer (Deve...   \n",
       "27  55064629                              Data Scientist в Сбер   \n",
       "28  55343710  Data Scientist/Machine Learning Engineer (Deve...   \n",
       "29  55127391  Junior Data Scientist (Валидация скоринговых м...   \n",
       "30  55127390  Junior Data Scientist (Валидация скоринговых м...   \n",
       "31  55127393  Junior Data Scientist (Валидация скоринговых м...   \n",
       "32  55127395  Junior Data Scientist (Валидация скоринговых м...   \n",
       "33  55127396  Junior Data Scientist (Валидация скоринговых м...   \n",
       "34  55127394  Junior Data Scientist (Валидация скоринговых м...   \n",
       "35  55127397  Junior Data Scientist (Валидация скоринговых м...   \n",
       "36  55127398  Junior Data Scientist (Валидация скоринговых м...   \n",
       "37  55127392  Junior Data Scientist (Валидация скоринговых м...   \n",
       "38  55095363            Риск - Аналитик (Junior Data scientist)   \n",
       "39  54702840  Программист Python/ Data Scientist (junior / m...   \n",
       "40  55104548       Риск-аналитик (ML Engineer / Data Scientist)   \n",
       "41  54522206            Data Scientist/ML engineer (Python/C++)   \n",
       "42  54882705       Junior Data scientist/ Младший риск-аналитик   \n",
       "43  54948266                         Senior Data Scientist (AI)   \n",
       "44  55046966             Junior Data Scientist for NLP (Python)   \n",
       "45  54949463          Junior Research Engineer / Data Scientist   \n",
       "46  54556346                              Ведущий AI/ML инженер   \n",
       "47  54689300                                     Data Scientist   \n",
       "48  54945920              Python developer / Junior ML engineer   \n",
       "49  52396404                             Data Scientist, Junior   \n",
       "50  55236061          Data Scientist (Computer Vision) / Junior   \n",
       "\n",
       "                                           key_skills          schedule  \\\n",
       "0           Python\\tSQL\\tРабота в команде\\tOpenCV\\tML     Гибкий график   \n",
       "1   Python\\tOpenCV\\tTensorflow\\tComputer Vision\\tН...       Полный день   \n",
       "2   Python\\tSQL\\tData Mining\\tC++\\tМатематический ...     Гибкий график   \n",
       "3   Python\\tMATLAB\\tМатематическое моделирование\\t...  Удаленная работа   \n",
       "4   Python\\tSQL\\tMachine Learning\\tData Science\\tА...       Полный день   \n",
       "5   Machine Learning\\tDeep Learning\\tData Science\\...     Гибкий график   \n",
       "6   Python\\tMachine Learning\\tPandas\\tSQL\\tNumpy\\t...       Полный день   \n",
       "7                                       Linux\\tPython     Гибкий график   \n",
       "8    Python\\tМатематическая статистика\\tАнализ данных       Полный день   \n",
       "9                                       Linux\\tPython     Гибкий график   \n",
       "10               Python\\tML\\tPytorch\\tComputer Vision       Полный день   \n",
       "11  Python\\tMachine Learning\\tМатематическое модел...       Полный день   \n",
       "12  Python\\tSQL\\tJava\\tМатематический анализ\\tМате...       Полный день   \n",
       "13  Математическое моделирование\\tАнализ данных\\tС...       Полный день   \n",
       "14  Python\\tМатематическая статистика\\tПрогнозиров...       Полный день   \n",
       "15  Python\\tМатематическая статистика\\tOracle Pl/S...     Гибкий график   \n",
       "16           Python\\tSQL\\tАнглийский язык\\tLinux\\tООП       Полный день   \n",
       "17  Python\\tPyTorch\\tGit\\tTensorflow\\tMachine Lear...       Полный день   \n",
       "18                                 SQL\\tOracle Pl/SQL       Полный день   \n",
       "19  Python\\tSQL\\tPostgreSQL\\tML\\tMachine Learning\\...       Полный день   \n",
       "20       Python\\tSQL\\tMachine Learning\\tDocker\\tNumpy       Полный день   \n",
       "21  PyTorch\\tMachine Learning\\tКонференции\\tPython...       Полный день   \n",
       "22  Python\\tUnix\\tАналитическое мышление\\tНейронны...  Удаленная работа   \n",
       "23                                         Python\\tML       Полный день   \n",
       "24  SQL\\tMS SQL\\tУдаленная работа\\tPython\\tМатемат...  Удаленная работа   \n",
       "25  Python\\tSQL\\tORACLE\\tСтатистический анализ\\tSp...  Удаленная работа   \n",
       "26  Machine Learning\\tDeep Learning\\tData Science\\...     Гибкий график   \n",
       "27                                               None       Полный день   \n",
       "28  Machine Learning\\tDeep Learning\\tData Science\\...     Гибкий график   \n",
       "29  Оценка рисков\\tMS PowerPoint\\tСтатистический а...       Полный день   \n",
       "30  Оценка рисков\\tMS PowerPoint\\tСтатистический а...       Полный день   \n",
       "31  Оценка рисков\\tMS PowerPoint\\tСтатистический а...       Полный день   \n",
       "32  Оценка рисков\\tMS PowerPoint\\tСтатистический а...       Полный день   \n",
       "33  Оценка рисков\\tMS PowerPoint\\tСтатистический а...       Полный день   \n",
       "34  Оценка рисков\\tMS PowerPoint\\tСтатистический а...       Полный день   \n",
       "35  Оценка рисков\\tMS PowerPoint\\tСтатистический а...       Полный день   \n",
       "36  Оценка рисков\\tMS PowerPoint\\tСтатистический а...       Полный день   \n",
       "37  Оценка рисков\\tMS PowerPoint\\tСтатистический а...       Полный день   \n",
       "38  Python\\tSQL\\tАнглийский язык\\tОбучение и разви...       Полный день   \n",
       "39         Python\\tDjango Framework\\tSQL\\tXML\\tMS SQL       Полный день   \n",
       "40                                               None       Полный день   \n",
       "41  ML\\tлинейные модели\\tRandom Forest\\tGradient B...  Удаленная работа   \n",
       "42  Математический анализ\\tБазы данных\\tСтатистика...       Полный день   \n",
       "43  Computer Vision\\tPyTorch\\tTensorflow\\tDeep Lea...       Полный день   \n",
       "44  Английский язык\\tCJM\\tПодготовка презентаций\\t...       Полный день   \n",
       "45  Python\\tTensorflow\\tPyTorch\\tMachine Learning\\...       Полный день   \n",
       "46  Python\\tUnix\\tАналитическое мышление\\tНейронны...  Удаленная работа   \n",
       "47  Python\\tGit\\tTensorFlow\\tKeras\\tJupiter\\tNLP\\t...       Полный день   \n",
       "48  Python\\tC++\\tОптимизация кода\\tАнализ кода\\tМа...     Гибкий график   \n",
       "49  Python\\tSQL\\tJava\\tМатематический анализ\\tМате...       Полный день   \n",
       "50  Python\\tLinux\\tGit\\tSQL\\tDocker\\tBash\\tOpenCV\\...       Полный день   \n",
       "\n",
       "            experience           employment  salary_from  salary_to  area_id  \\\n",
       "0   От 1 года до 3 лет     Полная занятость          NaN        NaN        4   \n",
       "1   От 1 года до 3 лет     Полная занятость      50000.0    70000.0       72   \n",
       "2            Нет опыта           Стажировка          NaN    37000.0        3   \n",
       "3   От 1 года до 3 лет  Частичная занятость          NaN        NaN     1002   \n",
       "4            Нет опыта     Полная занятость      50000.0        NaN        2   \n",
       "5            Нет опыта  Частичная занятость          NaN        NaN        2   \n",
       "6            Нет опыта  Частичная занятость      45000.0   100000.0        1   \n",
       "7            Нет опыта           Стажировка          NaN        NaN        2   \n",
       "8   От 1 года до 3 лет     Полная занятость          NaN        NaN        1   \n",
       "9   От 1 года до 3 лет     Полная занятость          NaN        NaN        2   \n",
       "10           Нет опыта     Полная занятость          NaN        NaN        1   \n",
       "11           Нет опыта     Полная занятость      80000.0   150000.0        2   \n",
       "12           Нет опыта     Полная занятость          NaN        NaN       72   \n",
       "13  От 1 года до 3 лет     Полная занятость          NaN        NaN        1   \n",
       "14           Нет опыта     Полная занятость          NaN    98000.0        2   \n",
       "15  От 1 года до 3 лет     Полная занятость          NaN        NaN        1   \n",
       "16  От 1 года до 3 лет     Полная занятость      50000.0        NaN       76   \n",
       "17           Нет опыта     Полная занятость          NaN        NaN        1   \n",
       "18           Нет опыта           Стажировка          NaN        NaN        1   \n",
       "19           Нет опыта           Стажировка          NaN        NaN        1   \n",
       "20  От 1 года до 3 лет     Полная занятость          NaN        NaN        2   \n",
       "21           Нет опыта     Полная занятость          NaN        NaN        1   \n",
       "22           Нет опыта     Полная занятость          NaN        NaN       26   \n",
       "23           Нет опыта     Полная занятость          NaN        NaN        1   \n",
       "24  От 1 года до 3 лет     Полная занятость          NaN        NaN        1   \n",
       "25  От 1 года до 3 лет     Полная занятость          NaN        NaN        1   \n",
       "26           Нет опыта  Частичная занятость          NaN        NaN       90   \n",
       "27           Нет опыта     Полная занятость          NaN        NaN        1   \n",
       "28           Нет опыта  Частичная занятость          NaN        NaN        4   \n",
       "29  От 1 года до 3 лет     Полная занятость          NaN        NaN       66   \n",
       "30  От 1 года до 3 лет     Полная занятость          NaN        NaN        1   \n",
       "31  От 1 года до 3 лет     Полная занятость          NaN        NaN        2   \n",
       "32  От 1 года до 3 лет     Полная занятость          NaN        NaN       90   \n",
       "33  От 1 года до 3 лет     Полная занятость          NaN        NaN       26   \n",
       "34  От 1 года до 3 лет     Полная занятость          NaN        NaN       76   \n",
       "35  От 1 года до 3 лет     Полная занятость          NaN        NaN       95   \n",
       "36  От 1 года до 3 лет     Полная занятость          NaN        NaN        4   \n",
       "37  От 1 года до 3 лет     Полная занятость          NaN        NaN       88   \n",
       "38  От 1 года до 3 лет     Полная занятость          NaN        NaN        1   \n",
       "39           Нет опыта     Полная занятость      60000.0   100000.0        4   \n",
       "40           Нет опыта     Полная занятость          NaN        NaN     1002   \n",
       "41           Нет опыта     Полная занятость          NaN        NaN       88   \n",
       "42  От 1 года до 3 лет     Полная занятость          NaN        NaN        1   \n",
       "43           Нет опыта     Полная занятость          NaN        NaN        2   \n",
       "44           Нет опыта     Полная занятость          NaN        NaN        1   \n",
       "45  От 1 года до 3 лет     Полная занятость          NaN        NaN        1   \n",
       "46           Нет опыта     Полная занятость          NaN        NaN        3   \n",
       "47           Нет опыта     Полная занятость          NaN        NaN        4   \n",
       "48           Нет опыта     Полная занятость          NaN        NaN        1   \n",
       "49           Нет опыта     Полная занятость          NaN        NaN       68   \n",
       "50           Нет опыта     Полная занятость      70000.0        NaN       22   \n",
       "\n",
       "    employer_id  \n",
       "0         80190  \n",
       "1        215942  \n",
       "2           953  \n",
       "3       1688252  \n",
       "4         40938  \n",
       "5        675403  \n",
       "6        665449  \n",
       "7          3124  \n",
       "8         15478  \n",
       "9          3124  \n",
       "10      1626408  \n",
       "11      1795976  \n",
       "12      4914081  \n",
       "13         4181  \n",
       "14      2954482  \n",
       "15         2242  \n",
       "16      2029927  \n",
       "17       976931  \n",
       "18         3127  \n",
       "19         2180  \n",
       "20      5488399  \n",
       "21       976931  \n",
       "22      2168135  \n",
       "23      2724615  \n",
       "24       870069  \n",
       "25        49357  \n",
       "26       675403  \n",
       "27         3529  \n",
       "28       675403  \n",
       "29         4181  \n",
       "30         4181  \n",
       "31         4181  \n",
       "32         4181  \n",
       "33         4181  \n",
       "34         4181  \n",
       "35         4181  \n",
       "36         4181  \n",
       "37         4181  \n",
       "38      4448058  \n",
       "39      4602050  \n",
       "40       534346  \n",
       "41        35784  \n",
       "42      1039977  \n",
       "43       168307  \n",
       "44      5979039  \n",
       "45       976931  \n",
       "46      2168135  \n",
       "47         2791  \n",
       "48      4108548  \n",
       "49      4914081  \n",
       "50      5920492  "
      ]
     },
     "execution_count": 44,
     "metadata": {},
     "output_type": "execute_result"
    }
   ],
   "source": [
    "query_data = f'''     \n",
    "    select\n",
    "        *\n",
    "    from vacancies v\n",
    "    where\n",
    "        (v.name ~* 'data scien(ce|tist)|исследователь данных|ML|machine learning|машинн.*обучен.*' and v.name !~* 'HTML')\n",
    "        and (v.name ~* 'junior' or v.experience = 'Нет опыта' or v.employment = 'Стажировка')\n",
    "'''\n",
    "count_data = pd.read_sql_query(query_data, connection)\n",
    "count_data"
   ]
  },
  {
   "cell_type": "markdown",
   "metadata": {
    "id": "eedceb80-c5ca-480e-b27a-278dfb8b4438"
   },
   "source": [
    "3. Сколько есть вакансий для DS, в которых в качестве ключевого навыка указан SQL или postgres?\n",
    "\n",
    "** Критерии для отнесения вакансии к DS указаны в предыдущем задании.*"
   ]
  },
  {
   "cell_type": "markdown",
   "metadata": {
    "id": "eedceb80-c5ca-480e-b27a-278dfb8b4438"
   },
   "source": [
    "3. Сколько есть вакансий для DS, в которых в качестве ключевого навыка указан SQL или postgres?\n",
    "\n",
    "** Критерии для отнесения вакансии к DS указаны в предыдущем задании.*"
   ]
  },
  {
   "cell_type": "code",
   "execution_count": 45,
   "metadata": {
    "id": "69621713-0cc5-4f1b-a1d7-bb144fa6148c"
   },
   "outputs": [],
   "source": [
    "# текст запроса\n",
    "query_sql = f'''select\n",
    "                count(*)\n",
    "                from public.VACANCIES v\n",
    "                where ((lower(v.name) like '%data scientist%' or\n",
    "                lower(v.name) like '%data science%' or\n",
    "                lower(v.name) like '%исследователь данных%' or\n",
    "                (v.name like '%ML%' and \n",
    "                upper(v.name) not like '%HTML%') or\n",
    "                lower(v.name) like '%machine learning%' or\n",
    "                lower(v.name) like '%машинн%обучен%')) and\n",
    "                (v.key_skills ilike '%postgres%' or\n",
    "                v.key_skills ilike '%SQL%')\n",
    "'''\n"
   ]
  },
  {
   "cell_type": "code",
   "execution_count": 46,
   "metadata": {
    "id": "alA8WEAAvGdf"
   },
   "outputs": [
    {
     "data": {
      "text/html": [
       "<div>\n",
       "<style scoped>\n",
       "    .dataframe tbody tr th:only-of-type {\n",
       "        vertical-align: middle;\n",
       "    }\n",
       "\n",
       "    .dataframe tbody tr th {\n",
       "        vertical-align: top;\n",
       "    }\n",
       "\n",
       "    .dataframe thead th {\n",
       "        text-align: right;\n",
       "    }\n",
       "</style>\n",
       "<table border=\"1\" class=\"dataframe\">\n",
       "  <thead>\n",
       "    <tr style=\"text-align: right;\">\n",
       "      <th></th>\n",
       "      <th>count</th>\n",
       "    </tr>\n",
       "  </thead>\n",
       "  <tbody>\n",
       "    <tr>\n",
       "      <th>0</th>\n",
       "      <td>201</td>\n",
       "    </tr>\n",
       "  </tbody>\n",
       "</table>\n",
       "</div>"
      ],
      "text/plain": [
       "   count\n",
       "0    201"
      ]
     },
     "execution_count": 46,
     "metadata": {},
     "output_type": "execute_result"
    }
   ],
   "source": [
    "# результат запроса\n",
    "count_sql = pd.read_sql_query(query_sql, connection)\n",
    "count_sql"
   ]
  },
  {
   "cell_type": "markdown",
   "metadata": {
    "id": "1be1e9c6-37cf-4a5f-bfeb-04cab799dc80"
   },
   "source": [
    "4. Проверьте, насколько популярен Python в требованиях работодателей к DS.Для этого вычислите количество вакансий, в которых в качестве ключевого навыка указан Python.\n",
    "\n",
    "** Это можно сделать помощью запроса, аналогичного предыдущему.*"
   ]
  },
  {
   "cell_type": "code",
   "execution_count": 47,
   "metadata": {
    "id": "0036a355-9ccf-4564-8b01-73d8194297e7"
   },
   "outputs": [],
   "source": [
    "# текст запроса\n",
    "query_python = f'''     \n",
    " select\n",
    "                count(*)\n",
    "                from public.VACANCIES v\n",
    "                where ((lower(v.name) like '%data scientist%' or\n",
    "                lower(v.name) like '%data science%' or\n",
    "                lower(v.name) like '%исследователь данных%' or\n",
    "                (v.name like '%ML%' and \n",
    "                upper(v.name) not like '%HTML%') or\n",
    "                lower(v.name) like '%machine learning%' or\n",
    "                lower(v.name) like '%машинн%обучен%')) and\n",
    "                (v.key_skills ilike '%Python%')\n",
    "        ''' \n"
   ]
  },
  {
   "cell_type": "code",
   "execution_count": 48,
   "metadata": {
    "id": "1i-5WyucvQ6v"
   },
   "outputs": [
    {
     "data": {
      "text/html": [
       "<div>\n",
       "<style scoped>\n",
       "    .dataframe tbody tr th:only-of-type {\n",
       "        vertical-align: middle;\n",
       "    }\n",
       "\n",
       "    .dataframe tbody tr th {\n",
       "        vertical-align: top;\n",
       "    }\n",
       "\n",
       "    .dataframe thead th {\n",
       "        text-align: right;\n",
       "    }\n",
       "</style>\n",
       "<table border=\"1\" class=\"dataframe\">\n",
       "  <thead>\n",
       "    <tr style=\"text-align: right;\">\n",
       "      <th></th>\n",
       "      <th>count</th>\n",
       "    </tr>\n",
       "  </thead>\n",
       "  <tbody>\n",
       "    <tr>\n",
       "      <th>0</th>\n",
       "      <td>351</td>\n",
       "    </tr>\n",
       "  </tbody>\n",
       "</table>\n",
       "</div>"
      ],
      "text/plain": [
       "   count\n",
       "0    351"
      ]
     },
     "execution_count": 48,
     "metadata": {},
     "output_type": "execute_result"
    }
   ],
   "source": [
    "# результат запроса\n",
    "count_python = pd.read_sql_query(query_python, connection)\n",
    "count_python"
   ]
  },
  {
   "cell_type": "markdown",
   "metadata": {
    "id": "ec3c8db7-fa21-4a41-a994-1af63742a642"
   },
   "source": [
    "5. Сколько ключевых навыков в среднем указывают в вакансиях для DS?\n",
    "Ответ округлите до двух знаков после точки-разделителя."
   ]
  },
  {
   "cell_type": "code",
   "execution_count": 49,
   "metadata": {
    "id": "949132bc-d5b6-4611-8218-0b9a504d74f4"
   },
   "outputs": [],
   "source": [
    "# текст запроса\n",
    "query_skills = f'''     \n",
    "select round(avg(length(key_skills)-length(replace(key_skills, CHR(9), ''))+1), 2) as skills_avg\n",
    "    FROM public.vacancies\n",
    "    where key_skills is not null and (name ilike '%data scientist%' or\n",
    "        name ilike '%data science%' or\n",
    "        name ilike '%исследователь данных%' or\n",
    "        name ilike '%machine learning%' or\n",
    "        name ilike '%машинн%обучен%' or\n",
    "        (name not like '%HTML%' and name like '%ML%'))\n",
    "        ''' "
   ]
  },
  {
   "cell_type": "code",
   "execution_count": 50,
   "metadata": {
    "id": "a3V24Tvmviqk"
   },
   "outputs": [
    {
     "data": {
      "text/html": [
       "<div>\n",
       "<style scoped>\n",
       "    .dataframe tbody tr th:only-of-type {\n",
       "        vertical-align: middle;\n",
       "    }\n",
       "\n",
       "    .dataframe tbody tr th {\n",
       "        vertical-align: top;\n",
       "    }\n",
       "\n",
       "    .dataframe thead th {\n",
       "        text-align: right;\n",
       "    }\n",
       "</style>\n",
       "<table border=\"1\" class=\"dataframe\">\n",
       "  <thead>\n",
       "    <tr style=\"text-align: right;\">\n",
       "      <th></th>\n",
       "      <th>skills_avg</th>\n",
       "    </tr>\n",
       "  </thead>\n",
       "  <tbody>\n",
       "    <tr>\n",
       "      <th>0</th>\n",
       "      <td>6.41</td>\n",
       "    </tr>\n",
       "  </tbody>\n",
       "</table>\n",
       "</div>"
      ],
      "text/plain": [
       "   skills_avg\n",
       "0        6.41"
      ]
     },
     "execution_count": 50,
     "metadata": {},
     "output_type": "execute_result"
    }
   ],
   "source": [
    "# результат запроса\n",
    "count_skills = pd.read_sql_query(query_skills, connection)\n",
    "count_skills"
   ]
  },
  {
   "cell_type": "markdown",
   "metadata": {
    "id": "1041c17a-ca8f-4543-a0ca-32778914fb00"
   },
   "source": [
    "6. Напишите запрос, позволяющий вычислить, какую зарплату для DS в **среднем** указывают для каждого типа требуемого опыта (уникальное значение из поля *experience*). \n",
    "\n",
    "При решении задачи примите во внимание следующее:\n",
    "1. Рассматриваем только вакансии, у которых заполнено хотя бы одно из двух полей с зарплатой.\n",
    "2. Если заполнены оба поля с зарплатой, то считаем зарплату по каждой вакансии как сумму двух полей, делённую на 2. Если заполнено только одно из полей, то его и считаем зарплатой по вакансии.\n",
    "3. Если в расчётах участвует null, в результате он тоже даст null (посмотрите, что возвращает запрос select 1 + null). Чтобы избежать этой ситуацию, мы воспользуемся функцией [coalesce](https://postgrespro.ru/docs/postgresql/9.5/functions-conditional#functions-coalesce-nvl-ifnull), которая заменит null на значение, которое мы передадим. Например, посмотрите, что возвращает запрос `select 1 + coalesce(null, 0)`\n",
    "\n",
    "Выясните, на какую зарплату в среднем может рассчитывать дата-сайентист с опытом работы от 3 до 6 лет. Результат округлите до целого числа. "
   ]
  },
  {
   "cell_type": "code",
   "execution_count": 51,
   "metadata": {
    "id": "6a743d39-5204-48d3-8271-b9f88e68d40e"
   },
   "outputs": [],
   "source": [
    "# текст запроса\n",
    "query_sal= f''' select distinct v.experience,\n",
    "                round(AVG(coalesce((salary_from+salary_to)/2, salary_from, salary_to)),0) \n",
    "                from public.VACANCIES v\n",
    "                where ((salary_from is not null or\n",
    "                salary_to is not null)) and\n",
    "                ((v.name ilike '%data scientist%' or\n",
    "                v.name ilike '%data science%' or\n",
    "                v.name ilike '%исследователь данных%' or\n",
    "                v.name ilike '%machine learning%' or\n",
    "                v.name ilike '%машинн%обучен%') or\n",
    "                (v.name like '%ML%' and \n",
    "                v.name not like '%HTML%'))\n",
    "                group by 1\n",
    "'''"
   ]
  },
  {
   "cell_type": "code",
   "execution_count": 52,
   "metadata": {
    "id": "aRIJ0mZEwU1_"
   },
   "outputs": [
    {
     "data": {
      "text/html": [
       "<div>\n",
       "<style scoped>\n",
       "    .dataframe tbody tr th:only-of-type {\n",
       "        vertical-align: middle;\n",
       "    }\n",
       "\n",
       "    .dataframe tbody tr th {\n",
       "        vertical-align: top;\n",
       "    }\n",
       "\n",
       "    .dataframe thead th {\n",
       "        text-align: right;\n",
       "    }\n",
       "</style>\n",
       "<table border=\"1\" class=\"dataframe\">\n",
       "  <thead>\n",
       "    <tr style=\"text-align: right;\">\n",
       "      <th></th>\n",
       "      <th>experience</th>\n",
       "      <th>round</th>\n",
       "    </tr>\n",
       "  </thead>\n",
       "  <tbody>\n",
       "    <tr>\n",
       "      <th>0</th>\n",
       "      <td>Нет опыта</td>\n",
       "      <td>74643.0</td>\n",
       "    </tr>\n",
       "    <tr>\n",
       "      <th>1</th>\n",
       "      <td>От 1 года до 3 лет</td>\n",
       "      <td>139675.0</td>\n",
       "    </tr>\n",
       "    <tr>\n",
       "      <th>2</th>\n",
       "      <td>От 3 до 6 лет</td>\n",
       "      <td>243115.0</td>\n",
       "    </tr>\n",
       "  </tbody>\n",
       "</table>\n",
       "</div>"
      ],
      "text/plain": [
       "           experience     round\n",
       "0           Нет опыта   74643.0\n",
       "1  От 1 года до 3 лет  139675.0\n",
       "2       От 3 до 6 лет  243115.0"
      ]
     },
     "execution_count": 52,
     "metadata": {},
     "output_type": "execute_result"
    }
   ],
   "source": [
    "# результат запроса\n",
    "count_sal = pd.read_sql_query(query_sal, connection)\n",
    "count_sal"
   ]
  },
  {
   "cell_type": "code",
   "execution_count": 53,
   "metadata": {},
   "outputs": [],
   "source": [
    "connection.close()"
   ]
  },
  {
   "cell_type": "markdown",
   "metadata": {
    "id": "6a7892b4-4113-4746-adce-18aa2844f18e"
   },
   "source": [
    "***"
   ]
  },
  {
   "cell_type": "markdown",
   "metadata": {
    "id": "UjLWUptVwY1o"
   },
   "source": [
    "#### выводы по предметному анализу\n",
    "51 вакансия предназначена для начинающих специалистов в DS. В 351 вакансиях Python указан как ключевой навык, в 201 - sql и postgres. Средняя зп для начинающего специалиста без опыта - около 75 тыс. руб., а специалисты с опытом работы от 3 до 6 лет могут претендовать на зп в среднем 243 тыс. руб."
   ]
  },
  {
   "cell_type": "markdown",
   "metadata": {
    "id": "c0ED6fh7wiBT"
   },
   "source": [
    "# Общий вывод по проекту"
   ]
  },
  {
   "cell_type": "markdown",
   "metadata": {
    "id": "h9B3BL-wwj18"
   },
   "source": [
    "Среди всех вакансий большее число размещено в городах Москва, Санкт-Петербург, Минск. Основной график работы - полная занятость на полный день. Среди них только 51 вакансия для начинающих специалистов в DS. "
   ]
  },
  {
   "cell_type": "code",
   "execution_count": null,
   "metadata": {},
   "outputs": [],
   "source": []
  }
 ],
 "metadata": {
  "colab": {
   "collapsed_sections": [
    "8d62a9f3-f64e-4fe7-bdac-c4dffa16155e"
   ],
   "provenance": []
  },
  "kernelspec": {
   "display_name": "Python 3",
   "language": "python",
   "name": "python3"
  },
  "language_info": {
   "codemirror_mode": {
    "name": "ipython",
    "version": 3
   },
   "file_extension": ".py",
   "mimetype": "text/x-python",
   "name": "python",
   "nbconvert_exporter": "python",
   "pygments_lexer": "ipython3",
   "version": "3.8.5"
  }
 },
 "nbformat": 4,
 "nbformat_minor": 5
}
